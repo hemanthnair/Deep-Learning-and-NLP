{
 "cells": [
  {
   "cell_type": "code",
   "execution_count": 1,
   "metadata": {},
   "outputs": [
    {
     "name": "stderr",
     "output_type": "stream",
     "text": [
      "C:\\Users\\Hemanth Nair\\.conda\\envs\\tensorflow\\lib\\site-packages\\pandas_datareader\\compat\\__init__.py:7: FutureWarning: pandas.util.testing is deprecated. Use the functions in the public API at pandas.testing instead.\n",
      "  from pandas.util.testing import assert_frame_equal\n"
     ]
    }
   ],
   "source": [
    "import pandas_datareader as pdr"
   ]
  },
  {
   "cell_type": "code",
   "execution_count": 2,
   "metadata": {},
   "outputs": [],
   "source": [
    "key='b7229f382db696b1193092be9f3962e64bca5125'"
   ]
  },
  {
   "cell_type": "code",
   "execution_count": 3,
   "metadata": {},
   "outputs": [],
   "source": [
    "df=pdr.get_data_tiingo('AAPL', api_key=key)"
   ]
  },
  {
   "cell_type": "code",
   "execution_count": 4,
   "metadata": {},
   "outputs": [],
   "source": [
    "df.to_csv('AAPL.csv')"
   ]
  },
  {
   "cell_type": "code",
   "execution_count": 5,
   "metadata": {},
   "outputs": [
    {
     "data": {
      "text/html": [
       "<div>\n",
       "<style scoped>\n",
       "    .dataframe tbody tr th:only-of-type {\n",
       "        vertical-align: middle;\n",
       "    }\n",
       "\n",
       "    .dataframe tbody tr th {\n",
       "        vertical-align: top;\n",
       "    }\n",
       "\n",
       "    .dataframe thead th {\n",
       "        text-align: right;\n",
       "    }\n",
       "</style>\n",
       "<table border=\"1\" class=\"dataframe\">\n",
       "  <thead>\n",
       "    <tr style=\"text-align: right;\">\n",
       "      <th></th>\n",
       "      <th></th>\n",
       "      <th>close</th>\n",
       "      <th>high</th>\n",
       "      <th>low</th>\n",
       "      <th>open</th>\n",
       "      <th>volume</th>\n",
       "      <th>adjClose</th>\n",
       "      <th>adjHigh</th>\n",
       "      <th>adjLow</th>\n",
       "      <th>adjOpen</th>\n",
       "      <th>adjVolume</th>\n",
       "      <th>divCash</th>\n",
       "      <th>splitFactor</th>\n",
       "    </tr>\n",
       "    <tr>\n",
       "      <th>symbol</th>\n",
       "      <th>date</th>\n",
       "      <th></th>\n",
       "      <th></th>\n",
       "      <th></th>\n",
       "      <th></th>\n",
       "      <th></th>\n",
       "      <th></th>\n",
       "      <th></th>\n",
       "      <th></th>\n",
       "      <th></th>\n",
       "      <th></th>\n",
       "      <th></th>\n",
       "      <th></th>\n",
       "    </tr>\n",
       "  </thead>\n",
       "  <tbody>\n",
       "    <tr>\n",
       "      <th rowspan=\"11\" valign=\"top\">AAPL</th>\n",
       "      <th>2015-07-24 00:00:00+00:00</th>\n",
       "      <td>124.50</td>\n",
       "      <td>125.7400</td>\n",
       "      <td>123.90</td>\n",
       "      <td>125.32</td>\n",
       "      <td>42162332</td>\n",
       "      <td>114.729663</td>\n",
       "      <td>115.872352</td>\n",
       "      <td>114.176749</td>\n",
       "      <td>115.485313</td>\n",
       "      <td>42162332</td>\n",
       "      <td>0.0</td>\n",
       "      <td>1.0</td>\n",
       "    </tr>\n",
       "    <tr>\n",
       "      <th>2015-07-27 00:00:00+00:00</th>\n",
       "      <td>122.77</td>\n",
       "      <td>123.6100</td>\n",
       "      <td>122.12</td>\n",
       "      <td>123.09</td>\n",
       "      <td>44455540</td>\n",
       "      <td>113.135428</td>\n",
       "      <td>113.909508</td>\n",
       "      <td>112.536438</td>\n",
       "      <td>113.430315</td>\n",
       "      <td>44455540</td>\n",
       "      <td>0.0</td>\n",
       "      <td>1.0</td>\n",
       "    </tr>\n",
       "    <tr>\n",
       "      <th>2015-07-28 00:00:00+00:00</th>\n",
       "      <td>123.38</td>\n",
       "      <td>123.9100</td>\n",
       "      <td>122.55</td>\n",
       "      <td>123.38</td>\n",
       "      <td>33618097</td>\n",
       "      <td>113.697557</td>\n",
       "      <td>114.185965</td>\n",
       "      <td>112.932693</td>\n",
       "      <td>113.697557</td>\n",
       "      <td>33618097</td>\n",
       "      <td>0.0</td>\n",
       "      <td>1.0</td>\n",
       "    </tr>\n",
       "    <tr>\n",
       "      <th>2015-07-29 00:00:00+00:00</th>\n",
       "      <td>122.99</td>\n",
       "      <td>123.5000</td>\n",
       "      <td>122.27</td>\n",
       "      <td>123.15</td>\n",
       "      <td>37011653</td>\n",
       "      <td>113.338163</td>\n",
       "      <td>113.808140</td>\n",
       "      <td>112.674666</td>\n",
       "      <td>113.485607</td>\n",
       "      <td>37011653</td>\n",
       "      <td>0.0</td>\n",
       "      <td>1.0</td>\n",
       "    </tr>\n",
       "    <tr>\n",
       "      <th>2015-07-30 00:00:00+00:00</th>\n",
       "      <td>122.37</td>\n",
       "      <td>122.5699</td>\n",
       "      <td>121.71</td>\n",
       "      <td>122.32</td>\n",
       "      <td>33628268</td>\n",
       "      <td>112.766819</td>\n",
       "      <td>112.951031</td>\n",
       "      <td>112.158613</td>\n",
       "      <td>112.720742</td>\n",
       "      <td>33628268</td>\n",
       "      <td>0.0</td>\n",
       "      <td>1.0</td>\n",
       "    </tr>\n",
       "    <tr>\n",
       "      <th>...</th>\n",
       "      <td>...</td>\n",
       "      <td>...</td>\n",
       "      <td>...</td>\n",
       "      <td>...</td>\n",
       "      <td>...</td>\n",
       "      <td>...</td>\n",
       "      <td>...</td>\n",
       "      <td>...</td>\n",
       "      <td>...</td>\n",
       "      <td>...</td>\n",
       "      <td>...</td>\n",
       "      <td>...</td>\n",
       "    </tr>\n",
       "    <tr>\n",
       "      <th>2020-07-15 00:00:00+00:00</th>\n",
       "      <td>390.90</td>\n",
       "      <td>396.9900</td>\n",
       "      <td>385.96</td>\n",
       "      <td>395.96</td>\n",
       "      <td>38306900</td>\n",
       "      <td>390.900000</td>\n",
       "      <td>396.990000</td>\n",
       "      <td>385.960000</td>\n",
       "      <td>395.960000</td>\n",
       "      <td>38306900</td>\n",
       "      <td>0.0</td>\n",
       "      <td>1.0</td>\n",
       "    </tr>\n",
       "    <tr>\n",
       "      <th>2020-07-16 00:00:00+00:00</th>\n",
       "      <td>386.09</td>\n",
       "      <td>389.6200</td>\n",
       "      <td>383.62</td>\n",
       "      <td>386.25</td>\n",
       "      <td>27645900</td>\n",
       "      <td>386.090000</td>\n",
       "      <td>389.620000</td>\n",
       "      <td>383.620000</td>\n",
       "      <td>386.250000</td>\n",
       "      <td>27645900</td>\n",
       "      <td>0.0</td>\n",
       "      <td>1.0</td>\n",
       "    </tr>\n",
       "    <tr>\n",
       "      <th>2020-07-17 00:00:00+00:00</th>\n",
       "      <td>385.31</td>\n",
       "      <td>388.5900</td>\n",
       "      <td>383.36</td>\n",
       "      <td>387.95</td>\n",
       "      <td>23046800</td>\n",
       "      <td>385.310000</td>\n",
       "      <td>388.590000</td>\n",
       "      <td>383.360000</td>\n",
       "      <td>387.950000</td>\n",
       "      <td>23046800</td>\n",
       "      <td>0.0</td>\n",
       "      <td>1.0</td>\n",
       "    </tr>\n",
       "    <tr>\n",
       "      <th>2020-07-20 00:00:00+00:00</th>\n",
       "      <td>393.43</td>\n",
       "      <td>394.0000</td>\n",
       "      <td>384.25</td>\n",
       "      <td>385.67</td>\n",
       "      <td>22397200</td>\n",
       "      <td>393.430000</td>\n",
       "      <td>394.000000</td>\n",
       "      <td>384.250000</td>\n",
       "      <td>385.670000</td>\n",
       "      <td>22397200</td>\n",
       "      <td>0.0</td>\n",
       "      <td>1.0</td>\n",
       "    </tr>\n",
       "    <tr>\n",
       "      <th>2020-07-21 00:00:00+00:00</th>\n",
       "      <td>388.00</td>\n",
       "      <td>397.0000</td>\n",
       "      <td>386.97</td>\n",
       "      <td>396.69</td>\n",
       "      <td>25627300</td>\n",
       "      <td>388.000000</td>\n",
       "      <td>397.000000</td>\n",
       "      <td>386.970000</td>\n",
       "      <td>396.690000</td>\n",
       "      <td>25627300</td>\n",
       "      <td>0.0</td>\n",
       "      <td>1.0</td>\n",
       "    </tr>\n",
       "  </tbody>\n",
       "</table>\n",
       "<p>1257 rows × 12 columns</p>\n",
       "</div>"
      ],
      "text/plain": [
       "                                   close      high     low    open    volume  \\\n",
       "symbol date                                                                    \n",
       "AAPL   2015-07-24 00:00:00+00:00  124.50  125.7400  123.90  125.32  42162332   \n",
       "       2015-07-27 00:00:00+00:00  122.77  123.6100  122.12  123.09  44455540   \n",
       "       2015-07-28 00:00:00+00:00  123.38  123.9100  122.55  123.38  33618097   \n",
       "       2015-07-29 00:00:00+00:00  122.99  123.5000  122.27  123.15  37011653   \n",
       "       2015-07-30 00:00:00+00:00  122.37  122.5699  121.71  122.32  33628268   \n",
       "...                                  ...       ...     ...     ...       ...   \n",
       "       2020-07-15 00:00:00+00:00  390.90  396.9900  385.96  395.96  38306900   \n",
       "       2020-07-16 00:00:00+00:00  386.09  389.6200  383.62  386.25  27645900   \n",
       "       2020-07-17 00:00:00+00:00  385.31  388.5900  383.36  387.95  23046800   \n",
       "       2020-07-20 00:00:00+00:00  393.43  394.0000  384.25  385.67  22397200   \n",
       "       2020-07-21 00:00:00+00:00  388.00  397.0000  386.97  396.69  25627300   \n",
       "\n",
       "                                    adjClose     adjHigh      adjLow  \\\n",
       "symbol date                                                            \n",
       "AAPL   2015-07-24 00:00:00+00:00  114.729663  115.872352  114.176749   \n",
       "       2015-07-27 00:00:00+00:00  113.135428  113.909508  112.536438   \n",
       "       2015-07-28 00:00:00+00:00  113.697557  114.185965  112.932693   \n",
       "       2015-07-29 00:00:00+00:00  113.338163  113.808140  112.674666   \n",
       "       2015-07-30 00:00:00+00:00  112.766819  112.951031  112.158613   \n",
       "...                                      ...         ...         ...   \n",
       "       2020-07-15 00:00:00+00:00  390.900000  396.990000  385.960000   \n",
       "       2020-07-16 00:00:00+00:00  386.090000  389.620000  383.620000   \n",
       "       2020-07-17 00:00:00+00:00  385.310000  388.590000  383.360000   \n",
       "       2020-07-20 00:00:00+00:00  393.430000  394.000000  384.250000   \n",
       "       2020-07-21 00:00:00+00:00  388.000000  397.000000  386.970000   \n",
       "\n",
       "                                     adjOpen  adjVolume  divCash  splitFactor  \n",
       "symbol date                                                                    \n",
       "AAPL   2015-07-24 00:00:00+00:00  115.485313   42162332      0.0          1.0  \n",
       "       2015-07-27 00:00:00+00:00  113.430315   44455540      0.0          1.0  \n",
       "       2015-07-28 00:00:00+00:00  113.697557   33618097      0.0          1.0  \n",
       "       2015-07-29 00:00:00+00:00  113.485607   37011653      0.0          1.0  \n",
       "       2015-07-30 00:00:00+00:00  112.720742   33628268      0.0          1.0  \n",
       "...                                      ...        ...      ...          ...  \n",
       "       2020-07-15 00:00:00+00:00  395.960000   38306900      0.0          1.0  \n",
       "       2020-07-16 00:00:00+00:00  386.250000   27645900      0.0          1.0  \n",
       "       2020-07-17 00:00:00+00:00  387.950000   23046800      0.0          1.0  \n",
       "       2020-07-20 00:00:00+00:00  385.670000   22397200      0.0          1.0  \n",
       "       2020-07-21 00:00:00+00:00  396.690000   25627300      0.0          1.0  \n",
       "\n",
       "[1257 rows x 12 columns]"
      ]
     },
     "execution_count": 5,
     "metadata": {},
     "output_type": "execute_result"
    }
   ],
   "source": [
    "df"
   ]
  },
  {
   "cell_type": "code",
   "execution_count": 6,
   "metadata": {},
   "outputs": [],
   "source": [
    "import pandas as pd"
   ]
  },
  {
   "cell_type": "code",
   "execution_count": 7,
   "metadata": {},
   "outputs": [],
   "source": [
    "df=pd.read_csv('AAPL.csv')"
   ]
  },
  {
   "cell_type": "code",
   "execution_count": 8,
   "metadata": {},
   "outputs": [
    {
     "data": {
      "text/html": [
       "<div>\n",
       "<style scoped>\n",
       "    .dataframe tbody tr th:only-of-type {\n",
       "        vertical-align: middle;\n",
       "    }\n",
       "\n",
       "    .dataframe tbody tr th {\n",
       "        vertical-align: top;\n",
       "    }\n",
       "\n",
       "    .dataframe thead th {\n",
       "        text-align: right;\n",
       "    }\n",
       "</style>\n",
       "<table border=\"1\" class=\"dataframe\">\n",
       "  <thead>\n",
       "    <tr style=\"text-align: right;\">\n",
       "      <th></th>\n",
       "      <th>symbol</th>\n",
       "      <th>date</th>\n",
       "      <th>close</th>\n",
       "      <th>high</th>\n",
       "      <th>low</th>\n",
       "      <th>open</th>\n",
       "      <th>volume</th>\n",
       "      <th>adjClose</th>\n",
       "      <th>adjHigh</th>\n",
       "      <th>adjLow</th>\n",
       "      <th>adjOpen</th>\n",
       "      <th>adjVolume</th>\n",
       "      <th>divCash</th>\n",
       "      <th>splitFactor</th>\n",
       "    </tr>\n",
       "  </thead>\n",
       "  <tbody>\n",
       "    <tr>\n",
       "      <th>0</th>\n",
       "      <td>AAPL</td>\n",
       "      <td>2015-07-24 00:00:00+00:00</td>\n",
       "      <td>124.50</td>\n",
       "      <td>125.7400</td>\n",
       "      <td>123.90</td>\n",
       "      <td>125.32</td>\n",
       "      <td>42162332</td>\n",
       "      <td>114.729663</td>\n",
       "      <td>115.872352</td>\n",
       "      <td>114.176749</td>\n",
       "      <td>115.485313</td>\n",
       "      <td>42162332</td>\n",
       "      <td>0.0</td>\n",
       "      <td>1.0</td>\n",
       "    </tr>\n",
       "    <tr>\n",
       "      <th>1</th>\n",
       "      <td>AAPL</td>\n",
       "      <td>2015-07-27 00:00:00+00:00</td>\n",
       "      <td>122.77</td>\n",
       "      <td>123.6100</td>\n",
       "      <td>122.12</td>\n",
       "      <td>123.09</td>\n",
       "      <td>44455540</td>\n",
       "      <td>113.135428</td>\n",
       "      <td>113.909508</td>\n",
       "      <td>112.536438</td>\n",
       "      <td>113.430315</td>\n",
       "      <td>44455540</td>\n",
       "      <td>0.0</td>\n",
       "      <td>1.0</td>\n",
       "    </tr>\n",
       "    <tr>\n",
       "      <th>2</th>\n",
       "      <td>AAPL</td>\n",
       "      <td>2015-07-28 00:00:00+00:00</td>\n",
       "      <td>123.38</td>\n",
       "      <td>123.9100</td>\n",
       "      <td>122.55</td>\n",
       "      <td>123.38</td>\n",
       "      <td>33618097</td>\n",
       "      <td>113.697557</td>\n",
       "      <td>114.185965</td>\n",
       "      <td>112.932693</td>\n",
       "      <td>113.697557</td>\n",
       "      <td>33618097</td>\n",
       "      <td>0.0</td>\n",
       "      <td>1.0</td>\n",
       "    </tr>\n",
       "    <tr>\n",
       "      <th>3</th>\n",
       "      <td>AAPL</td>\n",
       "      <td>2015-07-29 00:00:00+00:00</td>\n",
       "      <td>122.99</td>\n",
       "      <td>123.5000</td>\n",
       "      <td>122.27</td>\n",
       "      <td>123.15</td>\n",
       "      <td>37011653</td>\n",
       "      <td>113.338163</td>\n",
       "      <td>113.808140</td>\n",
       "      <td>112.674666</td>\n",
       "      <td>113.485607</td>\n",
       "      <td>37011653</td>\n",
       "      <td>0.0</td>\n",
       "      <td>1.0</td>\n",
       "    </tr>\n",
       "    <tr>\n",
       "      <th>4</th>\n",
       "      <td>AAPL</td>\n",
       "      <td>2015-07-30 00:00:00+00:00</td>\n",
       "      <td>122.37</td>\n",
       "      <td>122.5699</td>\n",
       "      <td>121.71</td>\n",
       "      <td>122.32</td>\n",
       "      <td>33628268</td>\n",
       "      <td>112.766819</td>\n",
       "      <td>112.951031</td>\n",
       "      <td>112.158613</td>\n",
       "      <td>112.720742</td>\n",
       "      <td>33628268</td>\n",
       "      <td>0.0</td>\n",
       "      <td>1.0</td>\n",
       "    </tr>\n",
       "  </tbody>\n",
       "</table>\n",
       "</div>"
      ],
      "text/plain": [
       "  symbol                       date   close      high     low    open  \\\n",
       "0   AAPL  2015-07-24 00:00:00+00:00  124.50  125.7400  123.90  125.32   \n",
       "1   AAPL  2015-07-27 00:00:00+00:00  122.77  123.6100  122.12  123.09   \n",
       "2   AAPL  2015-07-28 00:00:00+00:00  123.38  123.9100  122.55  123.38   \n",
       "3   AAPL  2015-07-29 00:00:00+00:00  122.99  123.5000  122.27  123.15   \n",
       "4   AAPL  2015-07-30 00:00:00+00:00  122.37  122.5699  121.71  122.32   \n",
       "\n",
       "     volume    adjClose     adjHigh      adjLow     adjOpen  adjVolume  \\\n",
       "0  42162332  114.729663  115.872352  114.176749  115.485313   42162332   \n",
       "1  44455540  113.135428  113.909508  112.536438  113.430315   44455540   \n",
       "2  33618097  113.697557  114.185965  112.932693  113.697557   33618097   \n",
       "3  37011653  113.338163  113.808140  112.674666  113.485607   37011653   \n",
       "4  33628268  112.766819  112.951031  112.158613  112.720742   33628268   \n",
       "\n",
       "   divCash  splitFactor  \n",
       "0      0.0          1.0  \n",
       "1      0.0          1.0  \n",
       "2      0.0          1.0  \n",
       "3      0.0          1.0  \n",
       "4      0.0          1.0  "
      ]
     },
     "execution_count": 8,
     "metadata": {},
     "output_type": "execute_result"
    }
   ],
   "source": [
    "df.head()"
   ]
  },
  {
   "cell_type": "code",
   "execution_count": 9,
   "metadata": {},
   "outputs": [],
   "source": [
    "df1=df.reset_index()['close']"
   ]
  },
  {
   "cell_type": "code",
   "execution_count": 10,
   "metadata": {},
   "outputs": [
    {
     "data": {
      "text/plain": [
       "(1257,)"
      ]
     },
     "execution_count": 10,
     "metadata": {},
     "output_type": "execute_result"
    }
   ],
   "source": [
    "df1.shape"
   ]
  },
  {
   "cell_type": "code",
   "execution_count": 11,
   "metadata": {},
   "outputs": [
    {
     "data": {
      "text/plain": [
       "[<matplotlib.lines.Line2D at 0x1b7a6272dc8>]"
      ]
     },
     "execution_count": 11,
     "metadata": {},
     "output_type": "execute_result"
    },
    {
     "data": {
      "image/png": "[encoded data removed]",
      "text/plain": [
       "<Figure size 432x288 with 1 Axes>"
      ]
     },
     "metadata": {
      "needs_background": "light"
     },
     "output_type": "display_data"
    }
   ],
   "source": [
    "import matplotlib.pyplot as plt\n",
    "plt.plot(df1)"
   ]
  },
  {
   "cell_type": "markdown",
   "metadata": {},
   "source": [
    "Scale the data as LSTM is sensitive to Scale of data, so we r converting it to 0-1"
   ]
  },
  {
   "cell_type": "code",
   "execution_count": 12,
   "metadata": {},
   "outputs": [],
   "source": [
    "import numpy as np\n",
    "from sklearn.preprocessing import MinMaxScaler\n",
    "scaler=MinMaxScaler(feature_range=(0,1))\n",
    "df1=scaler.fit_transform(np.array(df1).reshape(-1,1))"
   ]
  },
  {
   "cell_type": "code",
   "execution_count": 13,
   "metadata": {},
   "outputs": [
    {
     "data": {
      "text/plain": [
       "(1257, 1)"
      ]
     },
     "execution_count": 13,
     "metadata": {},
     "output_type": "execute_result"
    }
   ],
   "source": [
    "df1.shape"
   ]
  },
  {
   "cell_type": "code",
   "execution_count": 14,
   "metadata": {},
   "outputs": [],
   "source": [
    "#Spitting the dataset into train and test\n",
    "training_size=int(len(df1)*0.65)\n",
    "test_size=len(df1)-training_size\n",
    "train_data, test_data=df1[0:training_size,:], df1[training_size:len(df1), :1]"
   ]
  },
  {
   "cell_type": "code",
   "execution_count": 15,
   "metadata": {},
   "outputs": [
    {
     "data": {
      "text/plain": [
       "(817, 440)"
      ]
     },
     "execution_count": 15,
     "metadata": {},
     "output_type": "execute_result"
    }
   ],
   "source": [
    "training_size, test_size"
   ]
  },
  {
   "cell_type": "code",
   "execution_count": 16,
   "metadata": {},
   "outputs": [
    {
     "data": {
      "text/plain": [
       "(817, 440)"
      ]
     },
     "execution_count": 16,
     "metadata": {},
     "output_type": "execute_result"
    }
   ],
   "source": [
    "len(train_data), len(test_data)"
   ]
  },
  {
   "cell_type": "markdown",
   "metadata": {},
   "source": [
    "Converting to timesteps in training and testing set\n",
    "eg Timestep=3\n",
    "x_train     y_train             x_test     y_test\n",
    "f1  f2  f3  o/p              f1  f2  f3    o/p\n",
    "120 130 125 140             160 190 154   160\n",
    "130 125 140 134             190 154 160   170"
   ]
  },
  {
   "cell_type": "code",
   "execution_count": 17,
   "metadata": {},
   "outputs": [],
   "source": [
    "def create_dataset(dataset, time_step=1):\n",
    "    datax,datay=[],[]\n",
    "    for i in range(len(dataset)-time_step-1):\n",
    "        a=dataset[i:(i+time_step),0]\n",
    "        datax.append(a)\n",
    "        datay.append(dataset[i+time_step,0])\n",
    "    return numpy.array(datax), numpy.array(datay)"
   ]
  },
  {
   "cell_type": "code",
   "execution_count": 18,
   "metadata": {},
   "outputs": [],
   "source": [
    "import numpy\n",
    "time_step=100\n",
    "x_train,y_train=create_dataset(train_data, time_step)\n",
    "x_test, y_test=create_dataset(test_data,time_step)"
   ]
  },
  {
   "cell_type": "code",
   "execution_count": 19,
   "metadata": {},
   "outputs": [
    {
     "name": "stdout",
     "output_type": "stream",
     "text": [
      "[[0.42551717 0.4299383  0.43680095 ... 0.30146161 0.3081263  0.31601175]\n",
      " [0.4299383  0.43680095 0.41159392 ... 0.3081263  0.31601175 0.32228051]\n",
      " [0.43680095 0.41159392 0.42713385 ... 0.31601175 0.32228051 0.31736448]\n",
      " ...\n",
      " [0.68573691 0.65241347 0.6674915  ... 0.96199149 0.98284338 0.99165264]\n",
      " [0.65241347 0.6674915  0.60437494 ... 0.98284338 0.99165264 0.97578277]\n",
      " [0.6674915  0.60437494 0.60384704 ... 0.99165264 0.97578277 0.97320928]]\n"
     ]
    }
   ],
   "source": [
    "print(x_test)"
   ]
  },
  {
   "cell_type": "code",
   "execution_count": 20,
   "metadata": {},
   "outputs": [
    {
     "name": "stdout",
     "output_type": "stream",
     "text": [
      "[0.32228051 0.31736448 0.32274242 0.34560692 0.33227754 0.32465604\n",
      " 0.31822231 0.32376522 0.32459006 0.32864826 0.33290442 0.34207661\n",
      " 0.34646475 0.34758653 0.35190867 0.36213666 0.36015705 0.36385232\n",
      " 0.35834241 0.35807846 0.35926622 0.35933221 0.37213369 0.37454222\n",
      " 0.37675278 0.38648586 0.38543007 0.37922729 0.37599393 0.37701673\n",
      " 0.36401729 0.39651589 0.39199578 0.40057409 0.38978521 0.37124287\n",
      " 0.37137484 0.36418226 0.35250256 0.31469201 0.32439209 0.33184863\n",
      " 0.32907717 0.32551387 0.30601472 0.31759543 0.30499192 0.29469794\n",
      " 0.29242139 0.28997987 0.28717543 0.29021083 0.27955393 0.27371408\n",
      " 0.29463196 0.30420007 0.31304233 0.32930813 0.33732555 0.3446831\n",
      " 0.3426375  0.34250553 0.33785344 0.3416477  0.35669273 0.35477911\n",
      " 0.36002508 0.35778152 0.35712165 0.3471906  0.36114685 0.36094889\n",
      " 0.35494408 0.36692072 0.37081395 0.37635686 0.37576297 0.36187271\n",
      " 0.36589792 0.37246362 0.36758059 0.37269458 0.37899634 0.3766538\n",
      " 0.37285955 0.38048105 0.37035204 0.38562803 0.39097298 0.39041209\n",
      " 0.38496816 0.38734369 0.39374443 0.39077502 0.40483025 0.38962024\n",
      " 0.37507011 0.33983305 0.35190867 0.35863935 0.37312349 0.36507308\n",
      " 0.36339041 0.39140189 0.37087994 0.36754759 0.3832525  0.395955\n",
      " 0.39598799 0.40351051 0.40291663 0.37051701 0.38321951 0.37553202\n",
      " 0.38005213 0.39153387 0.39064304 0.38061302 0.39212775 0.40562209\n",
      " 0.40555611 0.40855851 0.41690587 0.43963839 0.43797222 0.42366954\n",
      " 0.42746379 0.43010327 0.43693292 0.4309611  0.4203042  0.42357056\n",
      " 0.42013923 0.43119206 0.4274308  0.42390049 0.44089214 0.44293774\n",
      " 0.4243624  0.43049919 0.45092217 0.45108714 0.44231086 0.45098816\n",
      " 0.46108417 0.48127619 0.48015441 0.47833977 0.47520538 0.47820779\n",
      " 0.48193606 0.49546339 0.49364875 0.50427266 0.5055924  0.51549045\n",
      " 0.52363984 0.50463559 0.50453661 0.52268303 0.54597644 0.55151935\n",
      " 0.55029859 0.55066152 0.5578871  0.56022963 0.5670263  0.56623445\n",
      " 0.57451582 0.56847801 0.57877198 0.58319311 0.58052064 0.57029265\n",
      " 0.56639942 0.56564057 0.58078459 0.57392194 0.58563463 0.58368801\n",
      " 0.57349302 0.55795308 0.56550859 0.5781781  0.59510376 0.58259923\n",
      " 0.58774621 0.59530173 0.59757828 0.60975288 0.62529282 0.62710746\n",
      " 0.6248969  0.62582071 0.62390709 0.63895213 0.63984295 0.65845129\n",
      " 0.65808836 0.66376324 0.67079085 0.6928965  0.6832624  0.69108186\n",
      " 0.68642977 0.70226665 0.72351447 0.72582401 0.7476987  0.73357749\n",
      " 0.72915636 0.74202382 0.75353855 0.74641196 0.75014022 0.75518823\n",
      " 0.75215283 0.72127091 0.75010723 0.77204791 0.77049721 0.72311855\n",
      " 0.7203141  0.75393447 0.76251278 0.77491834 0.75782771 0.76284272\n",
      " 0.75644198 0.78148405 0.77379656 0.77406051 0.75442938 0.76967237\n",
      " 0.75871853 0.73479824 0.68573691 0.65241347 0.6674915  0.60437494\n",
      " 0.60384704 0.6878155  0.65650467 0.70078195 0.66838233 0.65554786\n",
      " 0.58012472 0.64337326 0.6106767  0.52093438 0.61905705 0.50107229\n",
      " 0.53621037 0.51578739 0.50955162 0.45827972 0.44221188 0.51648025\n",
      " 0.51199314 0.55462074 0.51931769 0.5426441  0.54092844 0.49678313\n",
      " 0.51004652 0.49843281 0.56791712 0.5578871  0.57979478 0.58612953\n",
      " 0.60348411 0.64901514 0.64037085 0.64782738 0.63499291 0.61562572\n",
      " 0.58738329 0.61288726 0.60935696 0.6355538  0.63621367 0.62106965\n",
      " 0.6512587  0.67128576 0.65567983 0.66917417 0.68369131 0.69382032\n",
      " 0.7040813  0.72516414 0.74126497 0.72938731 0.71698175 0.72321753\n",
      " 0.71717972 0.7411     0.73509519 0.75518823 0.74733577 0.75406645\n",
      " 0.74693985 0.75149296 0.75195486 0.75093207 0.76383252 0.76874856\n",
      " 0.7746214  0.76538322 0.79567125 0.80213798 0.83688013 0.86607938\n",
      " 0.81018839 0.81975651 0.83358078 0.86357188 0.86195519 0.8624171\n",
      " 0.85578541 0.88597446 0.91124748 0.88990069 0.90567158 0.86868587\n",
      " 0.89557557 0.90553961 0.90326306 0.90326306 0.93539873 0.93157148\n",
      " 0.96020984 0.96562077 0.96783134 0.96199149 0.98284338 0.99165264\n",
      " 0.97578277 0.97320928 1.        ]\n"
     ]
    }
   ],
   "source": [
    "print(y_test)"
   ]
  },
  {
   "cell_type": "code",
   "execution_count": 21,
   "metadata": {},
   "outputs": [
    {
     "name": "stdout",
     "output_type": "stream",
     "text": [
      "(716, 100)\n",
      "(716,)\n"
     ]
    },
    {
     "data": {
      "text/plain": [
       "(None, None)"
      ]
     },
     "execution_count": 21,
     "metadata": {},
     "output_type": "execute_result"
    }
   ],
   "source": [
    "print(x_train.shape), print(y_train.shape)"
   ]
  },
  {
   "cell_type": "code",
   "execution_count": 22,
   "metadata": {},
   "outputs": [
    {
     "name": "stdout",
     "output_type": "stream",
     "text": [
      "(339, 100)\n",
      "(339,)\n"
     ]
    },
    {
     "data": {
      "text/plain": [
       "(None, None)"
      ]
     },
     "execution_count": 22,
     "metadata": {},
     "output_type": "execute_result"
    }
   ],
   "source": [
    "print(x_test.shape), print(y_test.shape)"
   ]
  },
  {
   "cell_type": "code",
   "execution_count": 23,
   "metadata": {},
   "outputs": [],
   "source": [
    "#reshape the data to 3d(samples, time steps, features) which is needed for LSTM\n",
    "x_train=x_train.reshape(x_train.shape[0],x_train.shape[1],1)\n",
    "x_test=x_test.reshape(x_test.shape[0],x_test.shape[1],1)"
   ]
  },
  {
   "cell_type": "markdown",
   "metadata": {},
   "source": [
    "# Creating Stacked GRU"
   ]
  },
  {
   "cell_type": "code",
   "execution_count": 24,
   "metadata": {},
   "outputs": [],
   "source": [
    "from tensorflow.keras.models import Sequential\n",
    "from tensorflow.keras.layers import GRU,Dense, Dropout"
   ]
  },
  {
   "cell_type": "code",
   "execution_count": 25,
   "metadata": {},
   "outputs": [],
   "source": [
    "model=Sequential()\n",
    "model.add(GRU(50,return_sequences=True, input_shape=(100,1)))\n",
    "model.add(Dropout(0.3))\n",
    "model.add(GRU(50,return_sequences=True))\n",
    "model.add(Dropout(0.3))\n",
    "model.add(GRU(50))\n",
    "model.add(Dropout(0.3))\n",
    "model.add(Dense(1))\n",
    "model.compile(loss='mean_squared_error', optimizer='adam')"
   ]
  },
  {
   "cell_type": "code",
   "execution_count": 26,
   "metadata": {},
   "outputs": [
    {
     "name": "stdout",
     "output_type": "stream",
     "text": [
      "Model: \"sequential\"\n",
      "_________________________________________________________________\n",
      "Layer (type)                 Output Shape              Param #   \n",
      "=================================================================\n",
      "gru (GRU)                    (None, 100, 50)           7950      \n",
      "_________________________________________________________________\n",
      "dropout (Dropout)            (None, 100, 50)           0         \n",
      "_________________________________________________________________\n",
      "gru_1 (GRU)                  (None, 100, 50)           15300     \n",
      "_________________________________________________________________\n",
      "dropout_1 (Dropout)          (None, 100, 50)           0         \n",
      "_________________________________________________________________\n",
      "gru_2 (GRU)                  (None, 50)                15300     \n",
      "_________________________________________________________________\n",
      "dropout_2 (Dropout)          (None, 50)                0         \n",
      "_________________________________________________________________\n",
      "dense (Dense)                (None, 1)                 51        \n",
      "=================================================================\n",
      "Total params: 38,601\n",
      "Trainable params: 38,601\n",
      "Non-trainable params: 0\n",
      "_________________________________________________________________\n"
     ]
    }
   ],
   "source": [
    "model.summary()"
   ]
  },
  {
   "cell_type": "code",
   "execution_count": 27,
   "metadata": {},
   "outputs": [
    {
     "name": "stdout",
     "output_type": "stream",
     "text": [
      "Train on 716 samples, validate on 339 samples\n",
      "Epoch 1/100\n",
      "716/716 [==============================] - 6s 8ms/sample - loss: 0.0148 - val_loss: 0.0406\n",
      "Epoch 2/100\n",
      "716/716 [==============================] - 2s 2ms/sample - loss: 0.0045 - val_loss: 0.0014\n",
      "Epoch 3/100\n",
      "716/716 [==============================] - 2s 2ms/sample - loss: 0.0018 - val_loss: 0.0010\n",
      "Epoch 4/100\n",
      "716/716 [==============================] - 2s 2ms/sample - loss: 0.0015 - val_loss: 0.0025\n",
      "Epoch 5/100\n",
      "716/716 [==============================] - 2s 2ms/sample - loss: 0.0013 - val_loss: 0.0020\n",
      "Epoch 6/100\n",
      "716/716 [==============================] - 2s 2ms/sample - loss: 0.0012 - val_loss: 9.3826e-04\n",
      "Epoch 7/100\n",
      "716/716 [==============================] - 2s 2ms/sample - loss: 0.0013 - val_loss: 0.0011\n",
      "Epoch 8/100\n",
      "716/716 [==============================] - 2s 2ms/sample - loss: 0.0012 - val_loss: 0.0030\n",
      "Epoch 9/100\n",
      "716/716 [==============================] - 2s 2ms/sample - loss: 0.0011 - val_loss: 0.0015\n",
      "Epoch 10/100\n",
      "716/716 [==============================] - 2s 2ms/sample - loss: 9.1600e-04 - val_loss: 0.0010\n",
      "Epoch 11/100\n",
      "716/716 [==============================] - 2s 2ms/sample - loss: 9.4937e-04 - val_loss: 9.8717e-04\n",
      "Epoch 12/100\n",
      "716/716 [==============================] - 2s 2ms/sample - loss: 8.7725e-04 - val_loss: 0.0013\n",
      "Epoch 13/100\n",
      "716/716 [==============================] - 2s 2ms/sample - loss: 9.0795e-04 - val_loss: 8.7347e-04\n",
      "Epoch 14/100\n",
      "716/716 [==============================] - 2s 2ms/sample - loss: 7.6608e-04 - val_loss: 8.7416e-04\n",
      "Epoch 15/100\n",
      "716/716 [==============================] - 2s 2ms/sample - loss: 9.2608e-04 - val_loss: 0.0013\n",
      "Epoch 16/100\n",
      "716/716 [==============================] - 2s 2ms/sample - loss: 8.1959e-04 - val_loss: 0.0016\n",
      "Epoch 17/100\n",
      "716/716 [==============================] - 2s 2ms/sample - loss: 8.4259e-04 - val_loss: 0.0030\n",
      "Epoch 18/100\n",
      "716/716 [==============================] - 2s 2ms/sample - loss: 8.4454e-04 - val_loss: 0.0013\n",
      "Epoch 19/100\n",
      "716/716 [==============================] - 2s 2ms/sample - loss: 7.7365e-04 - val_loss: 0.0020\n",
      "Epoch 20/100\n",
      "716/716 [==============================] - 2s 2ms/sample - loss: 7.3055e-04 - val_loss: 0.0016\n",
      "Epoch 21/100\n",
      "716/716 [==============================] - 2s 2ms/sample - loss: 7.1789e-04 - val_loss: 0.0021\n",
      "Epoch 22/100\n",
      "716/716 [==============================] - 2s 2ms/sample - loss: 7.3238e-04 - val_loss: 0.0015\n",
      "Epoch 23/100\n",
      "716/716 [==============================] - 2s 2ms/sample - loss: 7.3314e-04 - val_loss: 8.7736e-04\n",
      "Epoch 24/100\n",
      "716/716 [==============================] - 2s 2ms/sample - loss: 7.6095e-04 - val_loss: 9.8268e-04\n",
      "Epoch 25/100\n",
      "716/716 [==============================] - 2s 2ms/sample - loss: 5.9990e-04 - val_loss: 9.0871e-04\n",
      "Epoch 26/100\n",
      "716/716 [==============================] - 2s 2ms/sample - loss: 6.3914e-04 - val_loss: 0.0024\n",
      "Epoch 27/100\n",
      "716/716 [==============================] - 2s 2ms/sample - loss: 6.2997e-04 - val_loss: 8.4925e-04\n",
      "Epoch 28/100\n",
      "716/716 [==============================] - 2s 2ms/sample - loss: 6.2853e-04 - val_loss: 0.0010\n",
      "Epoch 29/100\n",
      "716/716 [==============================] - 2s 2ms/sample - loss: 6.3021e-04 - val_loss: 0.0011\n",
      "Epoch 30/100\n",
      "716/716 [==============================] - 2s 2ms/sample - loss: 6.3324e-04 - val_loss: 0.0013\n",
      "Epoch 31/100\n",
      "716/716 [==============================] - 2s 2ms/sample - loss: 6.5782e-04 - val_loss: 0.0015\n",
      "Epoch 32/100\n",
      "716/716 [==============================] - 2s 2ms/sample - loss: 5.3298e-04 - val_loss: 9.3778e-04\n",
      "Epoch 33/100\n",
      "716/716 [==============================] - 2s 2ms/sample - loss: 6.0156e-04 - val_loss: 0.0011\n",
      "Epoch 34/100\n",
      "716/716 [==============================] - 2s 2ms/sample - loss: 6.3444e-04 - val_loss: 8.0942e-04\n",
      "Epoch 35/100\n",
      "716/716 [==============================] - 2s 2ms/sample - loss: 6.4073e-04 - val_loss: 0.0027\n",
      "Epoch 36/100\n",
      "716/716 [==============================] - 2s 2ms/sample - loss: 5.8194e-04 - val_loss: 0.0012\n",
      "Epoch 37/100\n",
      "716/716 [==============================] - 2s 2ms/sample - loss: 5.5226e-04 - val_loss: 0.0011\n",
      "Epoch 38/100\n",
      "716/716 [==============================] - 2s 2ms/sample - loss: 5.6627e-04 - val_loss: 0.0015\n",
      "Epoch 39/100\n",
      "716/716 [==============================] - 2s 2ms/sample - loss: 5.3467e-04 - val_loss: 0.0010\n",
      "Epoch 40/100\n",
      "716/716 [==============================] - 2s 2ms/sample - loss: 5.8486e-04 - val_loss: 0.0011\n",
      "Epoch 41/100\n",
      "716/716 [==============================] - 2s 2ms/sample - loss: 6.0694e-04 - val_loss: 0.0011\n",
      "Epoch 42/100\n",
      "716/716 [==============================] - 2s 2ms/sample - loss: 5.7988e-04 - val_loss: 9.3419e-04\n",
      "Epoch 43/100\n",
      "716/716 [==============================] - 2s 2ms/sample - loss: 6.0313e-04 - val_loss: 0.0011\n",
      "Epoch 44/100\n",
      "716/716 [==============================] - 2s 2ms/sample - loss: 6.0447e-04 - val_loss: 0.0017\n",
      "Epoch 45/100\n",
      "716/716 [==============================] - 2s 2ms/sample - loss: 6.1874e-04 - val_loss: 8.4936e-04\n",
      "Epoch 46/100\n",
      "716/716 [==============================] - 2s 2ms/sample - loss: 5.5049e-04 - val_loss: 0.0012\n",
      "Epoch 47/100\n",
      "716/716 [==============================] - 2s 2ms/sample - loss: 5.1211e-04 - val_loss: 0.0014\n",
      "Epoch 48/100\n",
      "716/716 [==============================] - 2s 2ms/sample - loss: 6.4731e-04 - val_loss: 0.0016\n",
      "Epoch 49/100\n",
      "716/716 [==============================] - 2s 2ms/sample - loss: 6.5992e-04 - val_loss: 0.0016\n",
      "Epoch 50/100\n",
      "716/716 [==============================] - 2s 2ms/sample - loss: 5.6380e-04 - val_loss: 7.5537e-04\n",
      "Epoch 51/100\n",
      "716/716 [==============================] - 2s 2ms/sample - loss: 5.3117e-04 - val_loss: 0.0019\n",
      "Epoch 52/100\n",
      "716/716 [==============================] - 2s 2ms/sample - loss: 5.4374e-04 - val_loss: 0.0010\n",
      "Epoch 53/100\n",
      "716/716 [==============================] - 2s 2ms/sample - loss: 4.7915e-04 - val_loss: 0.0019\n",
      "Epoch 54/100\n",
      "716/716 [==============================] - 2s 2ms/sample - loss: 5.5686e-04 - val_loss: 0.0013\n",
      "Epoch 55/100\n",
      "716/716 [==============================] - 2s 2ms/sample - loss: 4.8937e-04 - val_loss: 9.7157e-04\n",
      "Epoch 56/100\n",
      "716/716 [==============================] - 2s 2ms/sample - loss: 5.4071e-04 - val_loss: 7.6589e-04\n",
      "Epoch 57/100\n",
      "716/716 [==============================] - 2s 2ms/sample - loss: 5.9639e-04 - val_loss: 0.0023\n",
      "Epoch 58/100\n",
      "716/716 [==============================] - 2s 2ms/sample - loss: 6.1506e-04 - val_loss: 8.5798e-04\n",
      "Epoch 59/100\n",
      "716/716 [==============================] - 2s 2ms/sample - loss: 5.7126e-04 - val_loss: 9.9867e-04\n",
      "Epoch 60/100\n",
      "716/716 [==============================] - 2s 2ms/sample - loss: 5.7977e-04 - val_loss: 8.3668e-04\n",
      "Epoch 61/100\n",
      "716/716 [==============================] - 2s 2ms/sample - loss: 6.0609e-04 - val_loss: 0.0030\n",
      "Epoch 62/100\n",
      "716/716 [==============================] - 2s 2ms/sample - loss: 7.1896e-04 - val_loss: 8.4664e-04\n",
      "Epoch 63/100\n",
      "716/716 [==============================] - 2s 2ms/sample - loss: 4.4276e-04 - val_loss: 0.0016\n",
      "Epoch 64/100\n",
      "716/716 [==============================] - 2s 2ms/sample - loss: 3.9068e-04 - val_loss: 0.0018\n",
      "Epoch 65/100\n",
      "716/716 [==============================] - 2s 2ms/sample - loss: 5.0166e-04 - val_loss: 7.0571e-04\n",
      "Epoch 66/100\n",
      "716/716 [==============================] - 2s 2ms/sample - loss: 4.5220e-04 - val_loss: 7.9301e-04\n",
      "Epoch 67/100\n",
      "716/716 [==============================] - 2s 2ms/sample - loss: 4.8359e-04 - val_loss: 0.0011\n",
      "Epoch 68/100\n",
      "716/716 [==============================] - 2s 2ms/sample - loss: 3.8877e-04 - val_loss: 0.0012\n",
      "Epoch 69/100\n",
      "716/716 [==============================] - 2s 3ms/sample - loss: 4.6080e-04 - val_loss: 8.4442e-04\n",
      "Epoch 70/100\n",
      "716/716 [==============================] - 2s 3ms/sample - loss: 4.5935e-04 - val_loss: 8.5198e-04\n",
      "Epoch 71/100\n",
      "716/716 [==============================] - 2s 2ms/sample - loss: 4.4614e-04 - val_loss: 0.0012\n",
      "Epoch 72/100\n",
      "716/716 [==============================] - 2s 2ms/sample - loss: 4.7291e-04 - val_loss: 8.2737e-04\n",
      "Epoch 73/100\n",
      "716/716 [==============================] - 2s 2ms/sample - loss: 4.7152e-04 - val_loss: 0.0012\n",
      "Epoch 74/100\n",
      "716/716 [==============================] - 2s 3ms/sample - loss: 4.4876e-04 - val_loss: 0.0011\n",
      "Epoch 75/100\n",
      "716/716 [==============================] - 2s 2ms/sample - loss: 4.1475e-04 - val_loss: 7.7891e-04\n"
     ]
    },
    {
     "name": "stdout",
     "output_type": "stream",
     "text": [
      "Epoch 76/100\n",
      "716/716 [==============================] - 2s 3ms/sample - loss: 4.0204e-04 - val_loss: 0.0019\n",
      "Epoch 77/100\n",
      "716/716 [==============================] - 2s 2ms/sample - loss: 4.5569e-04 - val_loss: 0.0014\n",
      "Epoch 78/100\n",
      "716/716 [==============================] - 2s 3ms/sample - loss: 4.0333e-04 - val_loss: 8.7873e-04\n",
      "Epoch 79/100\n",
      "716/716 [==============================] - 2s 3ms/sample - loss: 4.0963e-04 - val_loss: 8.3604e-04\n",
      "Epoch 80/100\n",
      "716/716 [==============================] - 2s 3ms/sample - loss: 3.6510e-04 - val_loss: 0.0012\n",
      "Epoch 81/100\n",
      "716/716 [==============================] - 2s 2ms/sample - loss: 4.1764e-04 - val_loss: 8.0762e-04\n",
      "Epoch 82/100\n",
      "716/716 [==============================] - 2s 2ms/sample - loss: 5.1603e-04 - val_loss: 0.0011\n",
      "Epoch 83/100\n",
      "716/716 [==============================] - 2s 2ms/sample - loss: 4.5067e-04 - val_loss: 0.0019\n",
      "Epoch 84/100\n",
      "716/716 [==============================] - 2s 2ms/sample - loss: 4.5938e-04 - val_loss: 0.0011\n",
      "Epoch 85/100\n",
      "716/716 [==============================] - 2s 2ms/sample - loss: 3.9346e-04 - val_loss: 6.2782e-04\n",
      "Epoch 86/100\n",
      "716/716 [==============================] - 2s 2ms/sample - loss: 4.2834e-04 - val_loss: 0.0015\n",
      "Epoch 87/100\n",
      "716/716 [==============================] - 2s 3ms/sample - loss: 4.9214e-04 - val_loss: 8.9483e-04\n",
      "Epoch 88/100\n",
      "716/716 [==============================] - 2s 2ms/sample - loss: 4.1672e-04 - val_loss: 8.2269e-04\n",
      "Epoch 89/100\n",
      "716/716 [==============================] - 2s 2ms/sample - loss: 4.3691e-04 - val_loss: 6.9747e-04\n",
      "Epoch 90/100\n",
      "716/716 [==============================] - 2s 3ms/sample - loss: 4.6192e-04 - val_loss: 7.6055e-04\n",
      "Epoch 91/100\n",
      "716/716 [==============================] - 2s 3ms/sample - loss: 3.9988e-04 - val_loss: 0.0012\n",
      "Epoch 92/100\n",
      "716/716 [==============================] - 2s 3ms/sample - loss: 4.5666e-04 - val_loss: 0.0011\n",
      "Epoch 93/100\n",
      "716/716 [==============================] - 2s 2ms/sample - loss: 4.1134e-04 - val_loss: 8.1096e-04\n",
      "Epoch 94/100\n",
      "716/716 [==============================] - 2s 2ms/sample - loss: 4.2607e-04 - val_loss: 7.2082e-04\n",
      "Epoch 95/100\n",
      "716/716 [==============================] - 2s 3ms/sample - loss: 3.6588e-04 - val_loss: 0.0013\n",
      "Epoch 96/100\n",
      "716/716 [==============================] - 2s 3ms/sample - loss: 3.3257e-04 - val_loss: 6.3512e-04\n",
      "Epoch 97/100\n",
      "716/716 [==============================] - 2s 3ms/sample - loss: 3.5941e-04 - val_loss: 8.5680e-04\n",
      "Epoch 98/100\n",
      "716/716 [==============================] - 2s 3ms/sample - loss: 3.9711e-04 - val_loss: 6.4518e-04\n",
      "Epoch 99/100\n",
      "716/716 [==============================] - 2s 2ms/sample - loss: 3.8665e-04 - val_loss: 0.0018\n",
      "Epoch 100/100\n",
      "716/716 [==============================] - 2s 2ms/sample - loss: 4.1732e-04 - val_loss: 6.2355e-04\n"
     ]
    },
    {
     "data": {
      "text/plain": [
       "<tensorflow.python.keras.callbacks.History at 0x1b7c582a688>"
      ]
     },
     "execution_count": 27,
     "metadata": {},
     "output_type": "execute_result"
    }
   ],
   "source": [
    "model.fit(x_train,y_train, validation_data=(x_test,y_test), epochs=100, batch_size=64, verbose=1)"
   ]
  },
  {
   "cell_type": "markdown",
   "metadata": {},
   "source": [
    "Check Prediction and performance"
   ]
  },
  {
   "cell_type": "code",
   "execution_count": 28,
   "metadata": {},
   "outputs": [],
   "source": [
    "train_predict=model.predict(x_train)\n",
    "test_predict=model.predict(x_test)"
   ]
  },
  {
   "cell_type": "code",
   "execution_count": 29,
   "metadata": {},
   "outputs": [],
   "source": [
    "#Transforming back to the origial form\n",
    "train_predict=scaler.inverse_transform(train_predict)\n",
    "test_predict=scaler.inverse_transform(test_predict)"
   ]
  },
  {
   "cell_type": "code",
   "execution_count": 30,
   "metadata": {},
   "outputs": [
    {
     "data": {
      "text/plain": [
       "148.6087447743468"
      ]
     },
     "execution_count": 30,
     "metadata": {},
     "output_type": "execute_result"
    }
   ],
   "source": [
    "#Calculation of RMSE\n",
    "import math\n",
    "from sklearn.metrics import mean_squared_error\n",
    "math.sqrt(mean_squared_error(y_train, train_predict))"
   ]
  },
  {
   "cell_type": "code",
   "execution_count": 31,
   "metadata": {},
   "outputs": [
    {
     "data": {
      "text/plain": [
       "259.55704740434174"
      ]
     },
     "execution_count": 31,
     "metadata": {},
     "output_type": "execute_result"
    }
   ],
   "source": [
    "#Test Data RMSE\n",
    "math.sqrt(mean_squared_error(y_test, test_predict))"
   ]
  },
  {
   "cell_type": "markdown",
   "metadata": {},
   "source": [
    "## Plotting"
   ]
  },
  {
   "cell_type": "code",
   "execution_count": 32,
   "metadata": {},
   "outputs": [
    {
     "data": {
      "image/png": "[encoded data removed]",
      "text/plain": [
       "<Figure size 432x288 with 1 Axes>"
      ]
     },
     "metadata": {
      "needs_background": "light"
     },
     "output_type": "display_data"
    }
   ],
   "source": [
    "look_back=100\n",
    "trainPredictPlot= numpy.empty_like(df1)\n",
    "trainPredictPlot[:, :]= np.nan\n",
    "trainPredictPlot[look_back:len(train_predict)+ look_back, :]= train_predict\n",
    "\n",
    "testPredictPlot= numpy.empty_like(df1)\n",
    "testPredictPlot[:, :]=np.nan\n",
    "testPredictPlot[len(train_predict)+(look_back*2) + 1:len(df1) -1, :]=test_predict\n",
    "\n",
    "plt.plot(scaler.inverse_transform(df1))\n",
    "plt.plot(trainPredictPlot)\n",
    "plt.plot(testPredictPlot)\n",
    "plt.show()\n",
    "                "
   ]
  },
  {
   "cell_type": "markdown",
   "metadata": {},
   "source": [
    "## Forecasting"
   ]
  },
  {
   "cell_type": "code",
   "execution_count": 33,
   "metadata": {},
   "outputs": [
    {
     "data": {
      "text/plain": [
       "440"
      ]
     },
     "execution_count": 33,
     "metadata": {},
     "output_type": "execute_result"
    }
   ],
   "source": [
    "len(test_data)"
   ]
  },
  {
   "cell_type": "code",
   "execution_count": 34,
   "metadata": {},
   "outputs": [
    {
     "data": {
      "text/plain": [
       "(1, 100)"
      ]
     },
     "execution_count": 34,
     "metadata": {},
     "output_type": "execute_result"
    }
   ],
   "source": [
    "x_input= test_data[340:].reshape(1,-1)\n",
    "x_input.shape"
   ]
  },
  {
   "cell_type": "markdown",
   "metadata": {},
   "source": [
    "Converting it to a list"
   ]
  },
  {
   "cell_type": "code",
   "execution_count": 35,
   "metadata": {},
   "outputs": [],
   "source": [
    "temp_input= list(x_input)\n",
    "temp_input= temp_input[0].tolist()"
   ]
  },
  {
   "cell_type": "markdown",
   "metadata": {},
   "source": [
    "Prediction for next 30 days"
   ]
  },
  {
   "cell_type": "code",
   "execution_count": 36,
   "metadata": {},
   "outputs": [
    {
     "name": "stdout",
     "output_type": "stream",
     "text": [
      "[0.9736551]\n",
      "101\n",
      "1 day input [0.6878155  0.65650467 0.70078195 0.66838233 0.65554786 0.58012472\n",
      " 0.64337326 0.6106767  0.52093438 0.61905705 0.50107229 0.53621037\n",
      " 0.51578739 0.50955162 0.45827972 0.44221188 0.51648025 0.51199314\n",
      " 0.55462074 0.51931769 0.5426441  0.54092844 0.49678313 0.51004652\n",
      " 0.49843281 0.56791712 0.5578871  0.57979478 0.58612953 0.60348411\n",
      " 0.64901514 0.64037085 0.64782738 0.63499291 0.61562572 0.58738329\n",
      " 0.61288726 0.60935696 0.6355538  0.63621367 0.62106965 0.6512587\n",
      " 0.67128576 0.65567983 0.66917417 0.68369131 0.69382032 0.7040813\n",
      " 0.72516414 0.74126497 0.72938731 0.71698175 0.72321753 0.71717972\n",
      " 0.7411     0.73509519 0.75518823 0.74733577 0.75406645 0.74693985\n",
      " 0.75149296 0.75195486 0.75093207 0.76383252 0.76874856 0.7746214\n",
      " 0.76538322 0.79567125 0.80213798 0.83688013 0.86607938 0.81018839\n",
      " 0.81975651 0.83358078 0.86357188 0.86195519 0.8624171  0.85578541\n",
      " 0.88597446 0.91124748 0.88990069 0.90567158 0.86868587 0.89557557\n",
      " 0.90553961 0.90326306 0.90326306 0.93539873 0.93157148 0.96020984\n",
      " 0.96562077 0.96783134 0.96199149 0.98284338 0.99165264 0.97578277\n",
      " 0.97320928 1.         0.98208453 0.9736551 ]\n",
      "1 day output [[0.9723613]]\n",
      "2 day input [0.65650467 0.70078195 0.66838233 0.65554786 0.58012472 0.64337326\n",
      " 0.6106767  0.52093438 0.61905705 0.50107229 0.53621037 0.51578739\n",
      " 0.50955162 0.45827972 0.44221188 0.51648025 0.51199314 0.55462074\n",
      " 0.51931769 0.5426441  0.54092844 0.49678313 0.51004652 0.49843281\n",
      " 0.56791712 0.5578871  0.57979478 0.58612953 0.60348411 0.64901514\n",
      " 0.64037085 0.64782738 0.63499291 0.61562572 0.58738329 0.61288726\n",
      " 0.60935696 0.6355538  0.63621367 0.62106965 0.6512587  0.67128576\n",
      " 0.65567983 0.66917417 0.68369131 0.69382032 0.7040813  0.72516414\n",
      " 0.74126497 0.72938731 0.71698175 0.72321753 0.71717972 0.7411\n",
      " 0.73509519 0.75518823 0.74733577 0.75406645 0.74693985 0.75149296\n",
      " 0.75195486 0.75093207 0.76383252 0.76874856 0.7746214  0.76538322\n",
      " 0.79567125 0.80213798 0.83688013 0.86607938 0.81018839 0.81975651\n",
      " 0.83358078 0.86357188 0.86195519 0.8624171  0.85578541 0.88597446\n",
      " 0.91124748 0.88990069 0.90567158 0.86868587 0.89557557 0.90553961\n",
      " 0.90326306 0.90326306 0.93539873 0.93157148 0.96020984 0.96562077\n",
      " 0.96783134 0.96199149 0.98284338 0.99165264 0.97578277 0.97320928\n",
      " 1.         0.98208453 0.9736551  0.97236133]\n",
      "2 day output [[0.9702383]]\n",
      "3 day input [0.70078195 0.66838233 0.65554786 0.58012472 0.64337326 0.6106767\n",
      " 0.52093438 0.61905705 0.50107229 0.53621037 0.51578739 0.50955162\n",
      " 0.45827972 0.44221188 0.51648025 0.51199314 0.55462074 0.51931769\n",
      " 0.5426441  0.54092844 0.49678313 0.51004652 0.49843281 0.56791712\n",
      " 0.5578871  0.57979478 0.58612953 0.60348411 0.64901514 0.64037085\n",
      " 0.64782738 0.63499291 0.61562572 0.58738329 0.61288726 0.60935696\n",
      " 0.6355538  0.63621367 0.62106965 0.6512587  0.67128576 0.65567983\n",
      " 0.66917417 0.68369131 0.69382032 0.7040813  0.72516414 0.74126497\n",
      " 0.72938731 0.71698175 0.72321753 0.71717972 0.7411     0.73509519\n",
      " 0.75518823 0.74733577 0.75406645 0.74693985 0.75149296 0.75195486\n",
      " 0.75093207 0.76383252 0.76874856 0.7746214  0.76538322 0.79567125\n",
      " 0.80213798 0.83688013 0.86607938 0.81018839 0.81975651 0.83358078\n",
      " 0.86357188 0.86195519 0.8624171  0.85578541 0.88597446 0.91124748\n",
      " 0.88990069 0.90567158 0.86868587 0.89557557 0.90553961 0.90326306\n",
      " 0.90326306 0.93539873 0.93157148 0.96020984 0.96562077 0.96783134\n",
      " 0.96199149 0.98284338 0.99165264 0.97578277 0.97320928 1.\n",
      " 0.98208453 0.9736551  0.97236133 0.97023833]\n",
      "3 day output [[0.96817994]]\n",
      "4 day input [0.66838233 0.65554786 0.58012472 0.64337326 0.6106767  0.52093438\n",
      " 0.61905705 0.50107229 0.53621037 0.51578739 0.50955162 0.45827972\n",
      " 0.44221188 0.51648025 0.51199314 0.55462074 0.51931769 0.5426441\n",
      " 0.54092844 0.49678313 0.51004652 0.49843281 0.56791712 0.5578871\n",
      " 0.57979478 0.58612953 0.60348411 0.64901514 0.64037085 0.64782738\n",
      " 0.63499291 0.61562572 0.58738329 0.61288726 0.60935696 0.6355538\n",
      " 0.63621367 0.62106965 0.6512587  0.67128576 0.65567983 0.66917417\n",
      " 0.68369131 0.69382032 0.7040813  0.72516414 0.74126497 0.72938731\n",
      " 0.71698175 0.72321753 0.71717972 0.7411     0.73509519 0.75518823\n",
      " 0.74733577 0.75406645 0.74693985 0.75149296 0.75195486 0.75093207\n",
      " 0.76383252 0.76874856 0.7746214  0.76538322 0.79567125 0.80213798\n",
      " 0.83688013 0.86607938 0.81018839 0.81975651 0.83358078 0.86357188\n",
      " 0.86195519 0.8624171  0.85578541 0.88597446 0.91124748 0.88990069\n",
      " 0.90567158 0.86868587 0.89557557 0.90553961 0.90326306 0.90326306\n",
      " 0.93539873 0.93157148 0.96020984 0.96562077 0.96783134 0.96199149\n",
      " 0.98284338 0.99165264 0.97578277 0.97320928 1.         0.98208453\n",
      " 0.9736551  0.97236133 0.97023833 0.96817994]\n",
      "4 day output [[0.96628606]]\n",
      "5 day input [0.65554786 0.58012472 0.64337326 0.6106767  0.52093438 0.61905705\n",
      " 0.50107229 0.53621037 0.51578739 0.50955162 0.45827972 0.44221188\n",
      " 0.51648025 0.51199314 0.55462074 0.51931769 0.5426441  0.54092844\n",
      " 0.49678313 0.51004652 0.49843281 0.56791712 0.5578871  0.57979478\n",
      " 0.58612953 0.60348411 0.64901514 0.64037085 0.64782738 0.63499291\n",
      " 0.61562572 0.58738329 0.61288726 0.60935696 0.6355538  0.63621367\n",
      " 0.62106965 0.6512587  0.67128576 0.65567983 0.66917417 0.68369131\n",
      " 0.69382032 0.7040813  0.72516414 0.74126497 0.72938731 0.71698175\n",
      " 0.72321753 0.71717972 0.7411     0.73509519 0.75518823 0.74733577\n",
      " 0.75406645 0.74693985 0.75149296 0.75195486 0.75093207 0.76383252\n",
      " 0.76874856 0.7746214  0.76538322 0.79567125 0.80213798 0.83688013\n",
      " 0.86607938 0.81018839 0.81975651 0.83358078 0.86357188 0.86195519\n",
      " 0.8624171  0.85578541 0.88597446 0.91124748 0.88990069 0.90567158\n",
      " 0.86868587 0.89557557 0.90553961 0.90326306 0.90326306 0.93539873\n",
      " 0.93157148 0.96020984 0.96562077 0.96783134 0.96199149 0.98284338\n",
      " 0.99165264 0.97578277 0.97320928 1.         0.98208453 0.9736551\n",
      " 0.97236133 0.97023833 0.96817994 0.96628606]\n",
      "5 day output [[0.9645182]]\n",
      "6 day input [0.58012472 0.64337326 0.6106767  0.52093438 0.61905705 0.50107229\n",
      " 0.53621037 0.51578739 0.50955162 0.45827972 0.44221188 0.51648025\n",
      " 0.51199314 0.55462074 0.51931769 0.5426441  0.54092844 0.49678313\n",
      " 0.51004652 0.49843281 0.56791712 0.5578871  0.57979478 0.58612953\n",
      " 0.60348411 0.64901514 0.64037085 0.64782738 0.63499291 0.61562572\n",
      " 0.58738329 0.61288726 0.60935696 0.6355538  0.63621367 0.62106965\n",
      " 0.6512587  0.67128576 0.65567983 0.66917417 0.68369131 0.69382032\n",
      " 0.7040813  0.72516414 0.74126497 0.72938731 0.71698175 0.72321753\n",
      " 0.71717972 0.7411     0.73509519 0.75518823 0.74733577 0.75406645\n",
      " 0.74693985 0.75149296 0.75195486 0.75093207 0.76383252 0.76874856\n",
      " 0.7746214  0.76538322 0.79567125 0.80213798 0.83688013 0.86607938\n",
      " 0.81018839 0.81975651 0.83358078 0.86357188 0.86195519 0.8624171\n",
      " 0.85578541 0.88597446 0.91124748 0.88990069 0.90567158 0.86868587\n",
      " 0.89557557 0.90553961 0.90326306 0.90326306 0.93539873 0.93157148\n",
      " 0.96020984 0.96562077 0.96783134 0.96199149 0.98284338 0.99165264\n",
      " 0.97578277 0.97320928 1.         0.98208453 0.9736551  0.97236133\n",
      " 0.97023833 0.96817994 0.96628606 0.96451819]\n",
      "6 day output [[0.9628413]]\n",
      "7 day input [0.64337326 0.6106767  0.52093438 0.61905705 0.50107229 0.53621037\n",
      " 0.51578739 0.50955162 0.45827972 0.44221188 0.51648025 0.51199314\n",
      " 0.55462074 0.51931769 0.5426441  0.54092844 0.49678313 0.51004652\n",
      " 0.49843281 0.56791712 0.5578871  0.57979478 0.58612953 0.60348411\n",
      " 0.64901514 0.64037085 0.64782738 0.63499291 0.61562572 0.58738329\n",
      " 0.61288726 0.60935696 0.6355538  0.63621367 0.62106965 0.6512587\n",
      " 0.67128576 0.65567983 0.66917417 0.68369131 0.69382032 0.7040813\n",
      " 0.72516414 0.74126497 0.72938731 0.71698175 0.72321753 0.71717972\n",
      " 0.7411     0.73509519 0.75518823 0.74733577 0.75406645 0.74693985\n",
      " 0.75149296 0.75195486 0.75093207 0.76383252 0.76874856 0.7746214\n",
      " 0.76538322 0.79567125 0.80213798 0.83688013 0.86607938 0.81018839\n",
      " 0.81975651 0.83358078 0.86357188 0.86195519 0.8624171  0.85578541\n",
      " 0.88597446 0.91124748 0.88990069 0.90567158 0.86868587 0.89557557\n",
      " 0.90553961 0.90326306 0.90326306 0.93539873 0.93157148 0.96020984\n",
      " 0.96562077 0.96783134 0.96199149 0.98284338 0.99165264 0.97578277\n",
      " 0.97320928 1.         0.98208453 0.9736551  0.97236133 0.97023833\n",
      " 0.96817994 0.96628606 0.96451819 0.96284127]\n",
      "7 day output [[0.96123457]]\n",
      "8 day input [0.6106767  0.52093438 0.61905705 0.50107229 0.53621037 0.51578739\n",
      " 0.50955162 0.45827972 0.44221188 0.51648025 0.51199314 0.55462074\n",
      " 0.51931769 0.5426441  0.54092844 0.49678313 0.51004652 0.49843281\n",
      " 0.56791712 0.5578871  0.57979478 0.58612953 0.60348411 0.64901514\n",
      " 0.64037085 0.64782738 0.63499291 0.61562572 0.58738329 0.61288726\n",
      " 0.60935696 0.6355538  0.63621367 0.62106965 0.6512587  0.67128576\n",
      " 0.65567983 0.66917417 0.68369131 0.69382032 0.7040813  0.72516414\n",
      " 0.74126497 0.72938731 0.71698175 0.72321753 0.71717972 0.7411\n",
      " 0.73509519 0.75518823 0.74733577 0.75406645 0.74693985 0.75149296\n",
      " 0.75195486 0.75093207 0.76383252 0.76874856 0.7746214  0.76538322\n",
      " 0.79567125 0.80213798 0.83688013 0.86607938 0.81018839 0.81975651\n",
      " 0.83358078 0.86357188 0.86195519 0.8624171  0.85578541 0.88597446\n",
      " 0.91124748 0.88990069 0.90567158 0.86868587 0.89557557 0.90553961\n",
      " 0.90326306 0.90326306 0.93539873 0.93157148 0.96020984 0.96562077\n",
      " 0.96783134 0.96199149 0.98284338 0.99165264 0.97578277 0.97320928\n",
      " 1.         0.98208453 0.9736551  0.97236133 0.97023833 0.96817994\n",
      " 0.96628606 0.96451819 0.96284127 0.96123457]\n",
      "8 day output [[0.9596838]]\n",
      "9 day input [0.52093438 0.61905705 0.50107229 0.53621037 0.51578739 0.50955162\n",
      " 0.45827972 0.44221188 0.51648025 0.51199314 0.55462074 0.51931769\n",
      " 0.5426441  0.54092844 0.49678313 0.51004652 0.49843281 0.56791712\n",
      " 0.5578871  0.57979478 0.58612953 0.60348411 0.64901514 0.64037085\n",
      " 0.64782738 0.63499291 0.61562572 0.58738329 0.61288726 0.60935696\n",
      " 0.6355538  0.63621367 0.62106965 0.6512587  0.67128576 0.65567983\n",
      " 0.66917417 0.68369131 0.69382032 0.7040813  0.72516414 0.74126497\n",
      " 0.72938731 0.71698175 0.72321753 0.71717972 0.7411     0.73509519\n",
      " 0.75518823 0.74733577 0.75406645 0.74693985 0.75149296 0.75195486\n",
      " 0.75093207 0.76383252 0.76874856 0.7746214  0.76538322 0.79567125\n",
      " 0.80213798 0.83688013 0.86607938 0.81018839 0.81975651 0.83358078\n",
      " 0.86357188 0.86195519 0.8624171  0.85578541 0.88597446 0.91124748\n",
      " 0.88990069 0.90567158 0.86868587 0.89557557 0.90553961 0.90326306\n",
      " 0.90326306 0.93539873 0.93157148 0.96020984 0.96562077 0.96783134\n",
      " 0.96199149 0.98284338 0.99165264 0.97578277 0.97320928 1.\n",
      " 0.98208453 0.9736551  0.97236133 0.97023833 0.96817994 0.96628606\n",
      " 0.96451819 0.96284127 0.96123457 0.95968378]\n",
      "9 day output [[0.95817864]]\n",
      "10 day input [0.61905705 0.50107229 0.53621037 0.51578739 0.50955162 0.45827972\n",
      " 0.44221188 0.51648025 0.51199314 0.55462074 0.51931769 0.5426441\n",
      " 0.54092844 0.49678313 0.51004652 0.49843281 0.56791712 0.5578871\n",
      " 0.57979478 0.58612953 0.60348411 0.64901514 0.64037085 0.64782738\n",
      " 0.63499291 0.61562572 0.58738329 0.61288726 0.60935696 0.6355538\n",
      " 0.63621367 0.62106965 0.6512587  0.67128576 0.65567983 0.66917417\n",
      " 0.68369131 0.69382032 0.7040813  0.72516414 0.74126497 0.72938731\n",
      " 0.71698175 0.72321753 0.71717972 0.7411     0.73509519 0.75518823\n",
      " 0.74733577 0.75406645 0.74693985 0.75149296 0.75195486 0.75093207\n",
      " 0.76383252 0.76874856 0.7746214  0.76538322 0.79567125 0.80213798\n",
      " 0.83688013 0.86607938 0.81018839 0.81975651 0.83358078 0.86357188\n",
      " 0.86195519 0.8624171  0.85578541 0.88597446 0.91124748 0.88990069\n",
      " 0.90567158 0.86868587 0.89557557 0.90553961 0.90326306 0.90326306\n",
      " 0.93539873 0.93157148 0.96020984 0.96562077 0.96783134 0.96199149\n",
      " 0.98284338 0.99165264 0.97578277 0.97320928 1.         0.98208453\n",
      " 0.9736551  0.97236133 0.97023833 0.96817994 0.96628606 0.96451819\n",
      " 0.96284127 0.96123457 0.95968378 0.95817864]\n",
      "10 day output [[0.9567125]]\n",
      "11 day input [0.50107229 0.53621037 0.51578739 0.50955162 0.45827972 0.44221188\n",
      " 0.51648025 0.51199314 0.55462074 0.51931769 0.5426441  0.54092844\n",
      " 0.49678313 0.51004652 0.49843281 0.56791712 0.5578871  0.57979478\n",
      " 0.58612953 0.60348411 0.64901514 0.64037085 0.64782738 0.63499291\n",
      " 0.61562572 0.58738329 0.61288726 0.60935696 0.6355538  0.63621367\n",
      " 0.62106965 0.6512587  0.67128576 0.65567983 0.66917417 0.68369131\n",
      " 0.69382032 0.7040813  0.72516414 0.74126497 0.72938731 0.71698175\n",
      " 0.72321753 0.71717972 0.7411     0.73509519 0.75518823 0.74733577\n",
      " 0.75406645 0.74693985 0.75149296 0.75195486 0.75093207 0.76383252\n",
      " 0.76874856 0.7746214  0.76538322 0.79567125 0.80213798 0.83688013\n",
      " 0.86607938 0.81018839 0.81975651 0.83358078 0.86357188 0.86195519\n",
      " 0.8624171  0.85578541 0.88597446 0.91124748 0.88990069 0.90567158\n",
      " 0.86868587 0.89557557 0.90553961 0.90326306 0.90326306 0.93539873\n",
      " 0.93157148 0.96020984 0.96562077 0.96783134 0.96199149 0.98284338\n",
      " 0.99165264 0.97578277 0.97320928 1.         0.98208453 0.9736551\n",
      " 0.97236133 0.97023833 0.96817994 0.96628606 0.96451819 0.96284127\n",
      " 0.96123457 0.95968378 0.95817864 0.95671248]\n",
      "11 day output [[0.9552791]]\n",
      "12 day input [0.53621037 0.51578739 0.50955162 0.45827972 0.44221188 0.51648025\n",
      " 0.51199314 0.55462074 0.51931769 0.5426441  0.54092844 0.49678313\n",
      " 0.51004652 0.49843281 0.56791712 0.5578871  0.57979478 0.58612953\n",
      " 0.60348411 0.64901514 0.64037085 0.64782738 0.63499291 0.61562572\n",
      " 0.58738329 0.61288726 0.60935696 0.6355538  0.63621367 0.62106965\n",
      " 0.6512587  0.67128576 0.65567983 0.66917417 0.68369131 0.69382032\n",
      " 0.7040813  0.72516414 0.74126497 0.72938731 0.71698175 0.72321753\n",
      " 0.71717972 0.7411     0.73509519 0.75518823 0.74733577 0.75406645\n",
      " 0.74693985 0.75149296 0.75195486 0.75093207 0.76383252 0.76874856\n",
      " 0.7746214  0.76538322 0.79567125 0.80213798 0.83688013 0.86607938\n",
      " 0.81018839 0.81975651 0.83358078 0.86357188 0.86195519 0.8624171\n",
      " 0.85578541 0.88597446 0.91124748 0.88990069 0.90567158 0.86868587\n",
      " 0.89557557 0.90553961 0.90326306 0.90326306 0.93539873 0.93157148\n",
      " 0.96020984 0.96562077 0.96783134 0.96199149 0.98284338 0.99165264\n",
      " 0.97578277 0.97320928 1.         0.98208453 0.9736551  0.97236133\n",
      " 0.97023833 0.96817994 0.96628606 0.96451819 0.96284127 0.96123457\n",
      " 0.95968378 0.95817864 0.95671248 0.95527911]\n"
     ]
    },
    {
     "name": "stdout",
     "output_type": "stream",
     "text": [
      "12 day output [[0.9538748]]\n",
      "13 day input [0.51578739 0.50955162 0.45827972 0.44221188 0.51648025 0.51199314\n",
      " 0.55462074 0.51931769 0.5426441  0.54092844 0.49678313 0.51004652\n",
      " 0.49843281 0.56791712 0.5578871  0.57979478 0.58612953 0.60348411\n",
      " 0.64901514 0.64037085 0.64782738 0.63499291 0.61562572 0.58738329\n",
      " 0.61288726 0.60935696 0.6355538  0.63621367 0.62106965 0.6512587\n",
      " 0.67128576 0.65567983 0.66917417 0.68369131 0.69382032 0.7040813\n",
      " 0.72516414 0.74126497 0.72938731 0.71698175 0.72321753 0.71717972\n",
      " 0.7411     0.73509519 0.75518823 0.74733577 0.75406645 0.74693985\n",
      " 0.75149296 0.75195486 0.75093207 0.76383252 0.76874856 0.7746214\n",
      " 0.76538322 0.79567125 0.80213798 0.83688013 0.86607938 0.81018839\n",
      " 0.81975651 0.83358078 0.86357188 0.86195519 0.8624171  0.85578541\n",
      " 0.88597446 0.91124748 0.88990069 0.90567158 0.86868587 0.89557557\n",
      " 0.90553961 0.90326306 0.90326306 0.93539873 0.93157148 0.96020984\n",
      " 0.96562077 0.96783134 0.96199149 0.98284338 0.99165264 0.97578277\n",
      " 0.97320928 1.         0.98208453 0.9736551  0.97236133 0.97023833\n",
      " 0.96817994 0.96628606 0.96451819 0.96284127 0.96123457 0.95968378\n",
      " 0.95817864 0.95671248 0.95527911 0.95387483]\n",
      "13 day output [[0.95249593]]\n",
      "14 day input [0.50955162 0.45827972 0.44221188 0.51648025 0.51199314 0.55462074\n",
      " 0.51931769 0.5426441  0.54092844 0.49678313 0.51004652 0.49843281\n",
      " 0.56791712 0.5578871  0.57979478 0.58612953 0.60348411 0.64901514\n",
      " 0.64037085 0.64782738 0.63499291 0.61562572 0.58738329 0.61288726\n",
      " 0.60935696 0.6355538  0.63621367 0.62106965 0.6512587  0.67128576\n",
      " 0.65567983 0.66917417 0.68369131 0.69382032 0.7040813  0.72516414\n",
      " 0.74126497 0.72938731 0.71698175 0.72321753 0.71717972 0.7411\n",
      " 0.73509519 0.75518823 0.74733577 0.75406645 0.74693985 0.75149296\n",
      " 0.75195486 0.75093207 0.76383252 0.76874856 0.7746214  0.76538322\n",
      " 0.79567125 0.80213798 0.83688013 0.86607938 0.81018839 0.81975651\n",
      " 0.83358078 0.86357188 0.86195519 0.8624171  0.85578541 0.88597446\n",
      " 0.91124748 0.88990069 0.90567158 0.86868587 0.89557557 0.90553961\n",
      " 0.90326306 0.90326306 0.93539873 0.93157148 0.96020984 0.96562077\n",
      " 0.96783134 0.96199149 0.98284338 0.99165264 0.97578277 0.97320928\n",
      " 1.         0.98208453 0.9736551  0.97236133 0.97023833 0.96817994\n",
      " 0.96628606 0.96451819 0.96284127 0.96123457 0.95968378 0.95817864\n",
      " 0.95671248 0.95527911 0.95387483 0.95249593]\n",
      "14 day output [[0.9511403]]\n",
      "15 day input [0.45827972 0.44221188 0.51648025 0.51199314 0.55462074 0.51931769\n",
      " 0.5426441  0.54092844 0.49678313 0.51004652 0.49843281 0.56791712\n",
      " 0.5578871  0.57979478 0.58612953 0.60348411 0.64901514 0.64037085\n",
      " 0.64782738 0.63499291 0.61562572 0.58738329 0.61288726 0.60935696\n",
      " 0.6355538  0.63621367 0.62106965 0.6512587  0.67128576 0.65567983\n",
      " 0.66917417 0.68369131 0.69382032 0.7040813  0.72516414 0.74126497\n",
      " 0.72938731 0.71698175 0.72321753 0.71717972 0.7411     0.73509519\n",
      " 0.75518823 0.74733577 0.75406645 0.74693985 0.75149296 0.75195486\n",
      " 0.75093207 0.76383252 0.76874856 0.7746214  0.76538322 0.79567125\n",
      " 0.80213798 0.83688013 0.86607938 0.81018839 0.81975651 0.83358078\n",
      " 0.86357188 0.86195519 0.8624171  0.85578541 0.88597446 0.91124748\n",
      " 0.88990069 0.90567158 0.86868587 0.89557557 0.90553961 0.90326306\n",
      " 0.90326306 0.93539873 0.93157148 0.96020984 0.96562077 0.96783134\n",
      " 0.96199149 0.98284338 0.99165264 0.97578277 0.97320928 1.\n",
      " 0.98208453 0.9736551  0.97236133 0.97023833 0.96817994 0.96628606\n",
      " 0.96451819 0.96284127 0.96123457 0.95968378 0.95817864 0.95671248\n",
      " 0.95527911 0.95387483 0.95249593 0.95114028]\n",
      "15 day output [[0.94980574]]\n",
      "16 day input [0.44221188 0.51648025 0.51199314 0.55462074 0.51931769 0.5426441\n",
      " 0.54092844 0.49678313 0.51004652 0.49843281 0.56791712 0.5578871\n",
      " 0.57979478 0.58612953 0.60348411 0.64901514 0.64037085 0.64782738\n",
      " 0.63499291 0.61562572 0.58738329 0.61288726 0.60935696 0.6355538\n",
      " 0.63621367 0.62106965 0.6512587  0.67128576 0.65567983 0.66917417\n",
      " 0.68369131 0.69382032 0.7040813  0.72516414 0.74126497 0.72938731\n",
      " 0.71698175 0.72321753 0.71717972 0.7411     0.73509519 0.75518823\n",
      " 0.74733577 0.75406645 0.74693985 0.75149296 0.75195486 0.75093207\n",
      " 0.76383252 0.76874856 0.7746214  0.76538322 0.79567125 0.80213798\n",
      " 0.83688013 0.86607938 0.81018839 0.81975651 0.83358078 0.86357188\n",
      " 0.86195519 0.8624171  0.85578541 0.88597446 0.91124748 0.88990069\n",
      " 0.90567158 0.86868587 0.89557557 0.90553961 0.90326306 0.90326306\n",
      " 0.93539873 0.93157148 0.96020984 0.96562077 0.96783134 0.96199149\n",
      " 0.98284338 0.99165264 0.97578277 0.97320928 1.         0.98208453\n",
      " 0.9736551  0.97236133 0.97023833 0.96817994 0.96628606 0.96451819\n",
      " 0.96284127 0.96123457 0.95968378 0.95817864 0.95671248 0.95527911\n",
      " 0.95387483 0.95249593 0.95114028 0.94980574]\n",
      "16 day output [[0.9484905]]\n",
      "17 day input [0.51648025 0.51199314 0.55462074 0.51931769 0.5426441  0.54092844\n",
      " 0.49678313 0.51004652 0.49843281 0.56791712 0.5578871  0.57979478\n",
      " 0.58612953 0.60348411 0.64901514 0.64037085 0.64782738 0.63499291\n",
      " 0.61562572 0.58738329 0.61288726 0.60935696 0.6355538  0.63621367\n",
      " 0.62106965 0.6512587  0.67128576 0.65567983 0.66917417 0.68369131\n",
      " 0.69382032 0.7040813  0.72516414 0.74126497 0.72938731 0.71698175\n",
      " 0.72321753 0.71717972 0.7411     0.73509519 0.75518823 0.74733577\n",
      " 0.75406645 0.74693985 0.75149296 0.75195486 0.75093207 0.76383252\n",
      " 0.76874856 0.7746214  0.76538322 0.79567125 0.80213798 0.83688013\n",
      " 0.86607938 0.81018839 0.81975651 0.83358078 0.86357188 0.86195519\n",
      " 0.8624171  0.85578541 0.88597446 0.91124748 0.88990069 0.90567158\n",
      " 0.86868587 0.89557557 0.90553961 0.90326306 0.90326306 0.93539873\n",
      " 0.93157148 0.96020984 0.96562077 0.96783134 0.96199149 0.98284338\n",
      " 0.99165264 0.97578277 0.97320928 1.         0.98208453 0.9736551\n",
      " 0.97236133 0.97023833 0.96817994 0.96628606 0.96451819 0.96284127\n",
      " 0.96123457 0.95968378 0.95817864 0.95671248 0.95527911 0.95387483\n",
      " 0.95249593 0.95114028 0.94980574 0.9484905 ]\n",
      "17 day output [[0.94719374]]\n",
      "18 day input [0.51199314 0.55462074 0.51931769 0.5426441  0.54092844 0.49678313\n",
      " 0.51004652 0.49843281 0.56791712 0.5578871  0.57979478 0.58612953\n",
      " 0.60348411 0.64901514 0.64037085 0.64782738 0.63499291 0.61562572\n",
      " 0.58738329 0.61288726 0.60935696 0.6355538  0.63621367 0.62106965\n",
      " 0.6512587  0.67128576 0.65567983 0.66917417 0.68369131 0.69382032\n",
      " 0.7040813  0.72516414 0.74126497 0.72938731 0.71698175 0.72321753\n",
      " 0.71717972 0.7411     0.73509519 0.75518823 0.74733577 0.75406645\n",
      " 0.74693985 0.75149296 0.75195486 0.75093207 0.76383252 0.76874856\n",
      " 0.7746214  0.76538322 0.79567125 0.80213798 0.83688013 0.86607938\n",
      " 0.81018839 0.81975651 0.83358078 0.86357188 0.86195519 0.8624171\n",
      " 0.85578541 0.88597446 0.91124748 0.88990069 0.90567158 0.86868587\n",
      " 0.89557557 0.90553961 0.90326306 0.90326306 0.93539873 0.93157148\n",
      " 0.96020984 0.96562077 0.96783134 0.96199149 0.98284338 0.99165264\n",
      " 0.97578277 0.97320928 1.         0.98208453 0.9736551  0.97236133\n",
      " 0.97023833 0.96817994 0.96628606 0.96451819 0.96284127 0.96123457\n",
      " 0.95968378 0.95817864 0.95671248 0.95527911 0.95387483 0.95249593\n",
      " 0.95114028 0.94980574 0.9484905  0.94719374]\n",
      "18 day output [[0.9459146]]\n",
      "19 day input [0.55462074 0.51931769 0.5426441  0.54092844 0.49678313 0.51004652\n",
      " 0.49843281 0.56791712 0.5578871  0.57979478 0.58612953 0.60348411\n",
      " 0.64901514 0.64037085 0.64782738 0.63499291 0.61562572 0.58738329\n",
      " 0.61288726 0.60935696 0.6355538  0.63621367 0.62106965 0.6512587\n",
      " 0.67128576 0.65567983 0.66917417 0.68369131 0.69382032 0.7040813\n",
      " 0.72516414 0.74126497 0.72938731 0.71698175 0.72321753 0.71717972\n",
      " 0.7411     0.73509519 0.75518823 0.74733577 0.75406645 0.74693985\n",
      " 0.75149296 0.75195486 0.75093207 0.76383252 0.76874856 0.7746214\n",
      " 0.76538322 0.79567125 0.80213798 0.83688013 0.86607938 0.81018839\n",
      " 0.81975651 0.83358078 0.86357188 0.86195519 0.8624171  0.85578541\n",
      " 0.88597446 0.91124748 0.88990069 0.90567158 0.86868587 0.89557557\n",
      " 0.90553961 0.90326306 0.90326306 0.93539873 0.93157148 0.96020984\n",
      " 0.96562077 0.96783134 0.96199149 0.98284338 0.99165264 0.97578277\n",
      " 0.97320928 1.         0.98208453 0.9736551  0.97236133 0.97023833\n",
      " 0.96817994 0.96628606 0.96451819 0.96284127 0.96123457 0.95968378\n",
      " 0.95817864 0.95671248 0.95527911 0.95387483 0.95249593 0.95114028\n",
      " 0.94980574 0.9484905  0.94719374 0.94591463]\n",
      "19 day output [[0.94465137]]\n",
      "20 day input [0.51931769 0.5426441  0.54092844 0.49678313 0.51004652 0.49843281\n",
      " 0.56791712 0.5578871  0.57979478 0.58612953 0.60348411 0.64901514\n",
      " 0.64037085 0.64782738 0.63499291 0.61562572 0.58738329 0.61288726\n",
      " 0.60935696 0.6355538  0.63621367 0.62106965 0.6512587  0.67128576\n",
      " 0.65567983 0.66917417 0.68369131 0.69382032 0.7040813  0.72516414\n",
      " 0.74126497 0.72938731 0.71698175 0.72321753 0.71717972 0.7411\n",
      " 0.73509519 0.75518823 0.74733577 0.75406645 0.74693985 0.75149296\n",
      " 0.75195486 0.75093207 0.76383252 0.76874856 0.7746214  0.76538322\n",
      " 0.79567125 0.80213798 0.83688013 0.86607938 0.81018839 0.81975651\n",
      " 0.83358078 0.86357188 0.86195519 0.8624171  0.85578541 0.88597446\n",
      " 0.91124748 0.88990069 0.90567158 0.86868587 0.89557557 0.90553961\n",
      " 0.90326306 0.90326306 0.93539873 0.93157148 0.96020984 0.96562077\n",
      " 0.96783134 0.96199149 0.98284338 0.99165264 0.97578277 0.97320928\n",
      " 1.         0.98208453 0.9736551  0.97236133 0.97023833 0.96817994\n",
      " 0.96628606 0.96451819 0.96284127 0.96123457 0.95968378 0.95817864\n",
      " 0.95671248 0.95527911 0.95387483 0.95249593 0.95114028 0.94980574\n",
      " 0.9484905  0.94719374 0.94591463 0.94465137]\n",
      "20 day output [[0.9434043]]\n",
      "21 day input [0.5426441  0.54092844 0.49678313 0.51004652 0.49843281 0.56791712\n",
      " 0.5578871  0.57979478 0.58612953 0.60348411 0.64901514 0.64037085\n",
      " 0.64782738 0.63499291 0.61562572 0.58738329 0.61288726 0.60935696\n",
      " 0.6355538  0.63621367 0.62106965 0.6512587  0.67128576 0.65567983\n",
      " 0.66917417 0.68369131 0.69382032 0.7040813  0.72516414 0.74126497\n",
      " 0.72938731 0.71698175 0.72321753 0.71717972 0.7411     0.73509519\n",
      " 0.75518823 0.74733577 0.75406645 0.74693985 0.75149296 0.75195486\n",
      " 0.75093207 0.76383252 0.76874856 0.7746214  0.76538322 0.79567125\n",
      " 0.80213798 0.83688013 0.86607938 0.81018839 0.81975651 0.83358078\n",
      " 0.86357188 0.86195519 0.8624171  0.85578541 0.88597446 0.91124748\n",
      " 0.88990069 0.90567158 0.86868587 0.89557557 0.90553961 0.90326306\n",
      " 0.90326306 0.93539873 0.93157148 0.96020984 0.96562077 0.96783134\n",
      " 0.96199149 0.98284338 0.99165264 0.97578277 0.97320928 1.\n",
      " 0.98208453 0.9736551  0.97236133 0.97023833 0.96817994 0.96628606\n",
      " 0.96451819 0.96284127 0.96123457 0.95968378 0.95817864 0.95671248\n",
      " 0.95527911 0.95387483 0.95249593 0.95114028 0.94980574 0.9484905\n",
      " 0.94719374 0.94591463 0.94465137 0.94340432]\n",
      "21 day output [[0.9421723]]\n",
      "22 day input [0.54092844 0.49678313 0.51004652 0.49843281 0.56791712 0.5578871\n",
      " 0.57979478 0.58612953 0.60348411 0.64901514 0.64037085 0.64782738\n",
      " 0.63499291 0.61562572 0.58738329 0.61288726 0.60935696 0.6355538\n",
      " 0.63621367 0.62106965 0.6512587  0.67128576 0.65567983 0.66917417\n",
      " 0.68369131 0.69382032 0.7040813  0.72516414 0.74126497 0.72938731\n",
      " 0.71698175 0.72321753 0.71717972 0.7411     0.73509519 0.75518823\n",
      " 0.74733577 0.75406645 0.74693985 0.75149296 0.75195486 0.75093207\n",
      " 0.76383252 0.76874856 0.7746214  0.76538322 0.79567125 0.80213798\n",
      " 0.83688013 0.86607938 0.81018839 0.81975651 0.83358078 0.86357188\n",
      " 0.86195519 0.8624171  0.85578541 0.88597446 0.91124748 0.88990069\n",
      " 0.90567158 0.86868587 0.89557557 0.90553961 0.90326306 0.90326306\n",
      " 0.93539873 0.93157148 0.96020984 0.96562077 0.96783134 0.96199149\n",
      " 0.98284338 0.99165264 0.97578277 0.97320928 1.         0.98208453\n",
      " 0.9736551  0.97236133 0.97023833 0.96817994 0.96628606 0.96451819\n",
      " 0.96284127 0.96123457 0.95968378 0.95817864 0.95671248 0.95527911\n",
      " 0.95387483 0.95249593 0.95114028 0.94980574 0.9484905  0.94719374\n",
      " 0.94591463 0.94465137 0.94340432 0.94217229]\n",
      "22 day output [[0.94095516]]\n",
      "23 day input [0.49678313 0.51004652 0.49843281 0.56791712 0.5578871  0.57979478\n",
      " 0.58612953 0.60348411 0.64901514 0.64037085 0.64782738 0.63499291\n",
      " 0.61562572 0.58738329 0.61288726 0.60935696 0.6355538  0.63621367\n",
      " 0.62106965 0.6512587  0.67128576 0.65567983 0.66917417 0.68369131\n",
      " 0.69382032 0.7040813  0.72516414 0.74126497 0.72938731 0.71698175\n",
      " 0.72321753 0.71717972 0.7411     0.73509519 0.75518823 0.74733577\n",
      " 0.75406645 0.74693985 0.75149296 0.75195486 0.75093207 0.76383252\n",
      " 0.76874856 0.7746214  0.76538322 0.79567125 0.80213798 0.83688013\n",
      " 0.86607938 0.81018839 0.81975651 0.83358078 0.86357188 0.86195519\n",
      " 0.8624171  0.85578541 0.88597446 0.91124748 0.88990069 0.90567158\n",
      " 0.86868587 0.89557557 0.90553961 0.90326306 0.90326306 0.93539873\n",
      " 0.93157148 0.96020984 0.96562077 0.96783134 0.96199149 0.98284338\n",
      " 0.99165264 0.97578277 0.97320928 1.         0.98208453 0.9736551\n",
      " 0.97236133 0.97023833 0.96817994 0.96628606 0.96451819 0.96284127\n",
      " 0.96123457 0.95968378 0.95817864 0.95671248 0.95527911 0.95387483\n",
      " 0.95249593 0.95114028 0.94980574 0.9484905  0.94719374 0.94591463\n",
      " 0.94465137 0.94340432 0.94217229 0.94095516]\n",
      "23 day output [[0.9397521]]\n",
      "24 day input [0.51004652 0.49843281 0.56791712 0.5578871  0.57979478 0.58612953\n",
      " 0.60348411 0.64901514 0.64037085 0.64782738 0.63499291 0.61562572\n",
      " 0.58738329 0.61288726 0.60935696 0.6355538  0.63621367 0.62106965\n",
      " 0.6512587  0.67128576 0.65567983 0.66917417 0.68369131 0.69382032\n",
      " 0.7040813  0.72516414 0.74126497 0.72938731 0.71698175 0.72321753\n",
      " 0.71717972 0.7411     0.73509519 0.75518823 0.74733577 0.75406645\n",
      " 0.74693985 0.75149296 0.75195486 0.75093207 0.76383252 0.76874856\n",
      " 0.7746214  0.76538322 0.79567125 0.80213798 0.83688013 0.86607938\n",
      " 0.81018839 0.81975651 0.83358078 0.86357188 0.86195519 0.8624171\n",
      " 0.85578541 0.88597446 0.91124748 0.88990069 0.90567158 0.86868587\n",
      " 0.89557557 0.90553961 0.90326306 0.90326306 0.93539873 0.93157148\n",
      " 0.96020984 0.96562077 0.96783134 0.96199149 0.98284338 0.99165264\n",
      " 0.97578277 0.97320928 1.         0.98208453 0.9736551  0.97236133\n",
      " 0.97023833 0.96817994 0.96628606 0.96451819 0.96284127 0.96123457\n",
      " 0.95968378 0.95817864 0.95671248 0.95527911 0.95387483 0.95249593\n",
      " 0.95114028 0.94980574 0.9484905  0.94719374 0.94591463 0.94465137\n",
      " 0.94340432 0.94217229 0.94095516 0.9397521 ]\n"
     ]
    },
    {
     "name": "stdout",
     "output_type": "stream",
     "text": [
      "24 day output [[0.93856335]]\n",
      "25 day input [0.49843281 0.56791712 0.5578871  0.57979478 0.58612953 0.60348411\n",
      " 0.64901514 0.64037085 0.64782738 0.63499291 0.61562572 0.58738329\n",
      " 0.61288726 0.60935696 0.6355538  0.63621367 0.62106965 0.6512587\n",
      " 0.67128576 0.65567983 0.66917417 0.68369131 0.69382032 0.7040813\n",
      " 0.72516414 0.74126497 0.72938731 0.71698175 0.72321753 0.71717972\n",
      " 0.7411     0.73509519 0.75518823 0.74733577 0.75406645 0.74693985\n",
      " 0.75149296 0.75195486 0.75093207 0.76383252 0.76874856 0.7746214\n",
      " 0.76538322 0.79567125 0.80213798 0.83688013 0.86607938 0.81018839\n",
      " 0.81975651 0.83358078 0.86357188 0.86195519 0.8624171  0.85578541\n",
      " 0.88597446 0.91124748 0.88990069 0.90567158 0.86868587 0.89557557\n",
      " 0.90553961 0.90326306 0.90326306 0.93539873 0.93157148 0.96020984\n",
      " 0.96562077 0.96783134 0.96199149 0.98284338 0.99165264 0.97578277\n",
      " 0.97320928 1.         0.98208453 0.9736551  0.97236133 0.97023833\n",
      " 0.96817994 0.96628606 0.96451819 0.96284127 0.96123457 0.95968378\n",
      " 0.95817864 0.95671248 0.95527911 0.95387483 0.95249593 0.95114028\n",
      " 0.94980574 0.9484905  0.94719374 0.94591463 0.94465137 0.94340432\n",
      " 0.94217229 0.94095516 0.9397521  0.93856335]\n",
      "25 day output [[0.93738806]]\n",
      "26 day input [0.56791712 0.5578871  0.57979478 0.58612953 0.60348411 0.64901514\n",
      " 0.64037085 0.64782738 0.63499291 0.61562572 0.58738329 0.61288726\n",
      " 0.60935696 0.6355538  0.63621367 0.62106965 0.6512587  0.67128576\n",
      " 0.65567983 0.66917417 0.68369131 0.69382032 0.7040813  0.72516414\n",
      " 0.74126497 0.72938731 0.71698175 0.72321753 0.71717972 0.7411\n",
      " 0.73509519 0.75518823 0.74733577 0.75406645 0.74693985 0.75149296\n",
      " 0.75195486 0.75093207 0.76383252 0.76874856 0.7746214  0.76538322\n",
      " 0.79567125 0.80213798 0.83688013 0.86607938 0.81018839 0.81975651\n",
      " 0.83358078 0.86357188 0.86195519 0.8624171  0.85578541 0.88597446\n",
      " 0.91124748 0.88990069 0.90567158 0.86868587 0.89557557 0.90553961\n",
      " 0.90326306 0.90326306 0.93539873 0.93157148 0.96020984 0.96562077\n",
      " 0.96783134 0.96199149 0.98284338 0.99165264 0.97578277 0.97320928\n",
      " 1.         0.98208453 0.9736551  0.97236133 0.97023833 0.96817994\n",
      " 0.96628606 0.96451819 0.96284127 0.96123457 0.95968378 0.95817864\n",
      " 0.95671248 0.95527911 0.95387483 0.95249593 0.95114028 0.94980574\n",
      " 0.9484905  0.94719374 0.94591463 0.94465137 0.94340432 0.94217229\n",
      " 0.94095516 0.9397521  0.93856335 0.93738806]\n",
      "26 day output [[0.9362261]]\n",
      "27 day input [0.5578871  0.57979478 0.58612953 0.60348411 0.64901514 0.64037085\n",
      " 0.64782738 0.63499291 0.61562572 0.58738329 0.61288726 0.60935696\n",
      " 0.6355538  0.63621367 0.62106965 0.6512587  0.67128576 0.65567983\n",
      " 0.66917417 0.68369131 0.69382032 0.7040813  0.72516414 0.74126497\n",
      " 0.72938731 0.71698175 0.72321753 0.71717972 0.7411     0.73509519\n",
      " 0.75518823 0.74733577 0.75406645 0.74693985 0.75149296 0.75195486\n",
      " 0.75093207 0.76383252 0.76874856 0.7746214  0.76538322 0.79567125\n",
      " 0.80213798 0.83688013 0.86607938 0.81018839 0.81975651 0.83358078\n",
      " 0.86357188 0.86195519 0.8624171  0.85578541 0.88597446 0.91124748\n",
      " 0.88990069 0.90567158 0.86868587 0.89557557 0.90553961 0.90326306\n",
      " 0.90326306 0.93539873 0.93157148 0.96020984 0.96562077 0.96783134\n",
      " 0.96199149 0.98284338 0.99165264 0.97578277 0.97320928 1.\n",
      " 0.98208453 0.9736551  0.97236133 0.97023833 0.96817994 0.96628606\n",
      " 0.96451819 0.96284127 0.96123457 0.95968378 0.95817864 0.95671248\n",
      " 0.95527911 0.95387483 0.95249593 0.95114028 0.94980574 0.9484905\n",
      " 0.94719374 0.94591463 0.94465137 0.94340432 0.94217229 0.94095516\n",
      " 0.9397521  0.93856335 0.93738806 0.93622613]\n",
      "27 day output [[0.9350772]]\n",
      "28 day input [0.57979478 0.58612953 0.60348411 0.64901514 0.64037085 0.64782738\n",
      " 0.63499291 0.61562572 0.58738329 0.61288726 0.60935696 0.6355538\n",
      " 0.63621367 0.62106965 0.6512587  0.67128576 0.65567983 0.66917417\n",
      " 0.68369131 0.69382032 0.7040813  0.72516414 0.74126497 0.72938731\n",
      " 0.71698175 0.72321753 0.71717972 0.7411     0.73509519 0.75518823\n",
      " 0.74733577 0.75406645 0.74693985 0.75149296 0.75195486 0.75093207\n",
      " 0.76383252 0.76874856 0.7746214  0.76538322 0.79567125 0.80213798\n",
      " 0.83688013 0.86607938 0.81018839 0.81975651 0.83358078 0.86357188\n",
      " 0.86195519 0.8624171  0.85578541 0.88597446 0.91124748 0.88990069\n",
      " 0.90567158 0.86868587 0.89557557 0.90553961 0.90326306 0.90326306\n",
      " 0.93539873 0.93157148 0.96020984 0.96562077 0.96783134 0.96199149\n",
      " 0.98284338 0.99165264 0.97578277 0.97320928 1.         0.98208453\n",
      " 0.9736551  0.97236133 0.97023833 0.96817994 0.96628606 0.96451819\n",
      " 0.96284127 0.96123457 0.95968378 0.95817864 0.95671248 0.95527911\n",
      " 0.95387483 0.95249593 0.95114028 0.94980574 0.9484905  0.94719374\n",
      " 0.94591463 0.94465137 0.94340432 0.94217229 0.94095516 0.9397521\n",
      " 0.93856335 0.93738806 0.93622613 0.93507719]\n",
      "28 day output [[0.93394125]]\n",
      "29 day input [0.58612953 0.60348411 0.64901514 0.64037085 0.64782738 0.63499291\n",
      " 0.61562572 0.58738329 0.61288726 0.60935696 0.6355538  0.63621367\n",
      " 0.62106965 0.6512587  0.67128576 0.65567983 0.66917417 0.68369131\n",
      " 0.69382032 0.7040813  0.72516414 0.74126497 0.72938731 0.71698175\n",
      " 0.72321753 0.71717972 0.7411     0.73509519 0.75518823 0.74733577\n",
      " 0.75406645 0.74693985 0.75149296 0.75195486 0.75093207 0.76383252\n",
      " 0.76874856 0.7746214  0.76538322 0.79567125 0.80213798 0.83688013\n",
      " 0.86607938 0.81018839 0.81975651 0.83358078 0.86357188 0.86195519\n",
      " 0.8624171  0.85578541 0.88597446 0.91124748 0.88990069 0.90567158\n",
      " 0.86868587 0.89557557 0.90553961 0.90326306 0.90326306 0.93539873\n",
      " 0.93157148 0.96020984 0.96562077 0.96783134 0.96199149 0.98284338\n",
      " 0.99165264 0.97578277 0.97320928 1.         0.98208453 0.9736551\n",
      " 0.97236133 0.97023833 0.96817994 0.96628606 0.96451819 0.96284127\n",
      " 0.96123457 0.95968378 0.95817864 0.95671248 0.95527911 0.95387483\n",
      " 0.95249593 0.95114028 0.94980574 0.9484905  0.94719374 0.94591463\n",
      " 0.94465137 0.94340432 0.94217229 0.94095516 0.9397521  0.93856335\n",
      " 0.93738806 0.93622613 0.93507719 0.93394125]\n",
      "29 day output [[0.93281794]]\n",
      "[[0.973655104637146], [0.9723613262176514], [0.9702383279800415], [0.9681799411773682], [0.9662860631942749], [0.9645181894302368], [0.962841272354126], [0.9612345695495605], [0.9596837759017944], [0.9581786394119263], [0.9567124843597412], [0.9552791118621826], [0.9538748264312744], [0.9524959325790405], [0.951140284538269], [0.949805736541748], [0.9484905004501343], [0.9471937417984009], [0.945914626121521], [0.9446513652801514], [0.9434043169021606], [0.9421722888946533], [0.9409551620483398], [0.9397521018981934], [0.938563346862793], [0.9373880624771118], [0.9362261295318604], [0.9350771903991699], [0.9339412450790405], [0.9328179359436035]]\n"
     ]
    }
   ],
   "source": [
    "from numpy import array\n",
    "\n",
    "lst_output=[]\n",
    "n_steps=100\n",
    "i=0\n",
    "while(i<30):\n",
    "    \n",
    "    if(len(temp_input)>100):\n",
    "        #print(temp_input)\n",
    "        x_input=np.array(temp_input[1:])\n",
    "        print(\"{} day input {}\".format(i,x_input))\n",
    "        x_input=x_input.reshape(1,-1)\n",
    "        x_input = x_input.reshape((1, n_steps, 1))\n",
    "        #print(x_input)\n",
    "        yhat = model.predict(x_input, verbose=0)\n",
    "        print(\"{} day output {}\".format(i,yhat))\n",
    "        temp_input.extend(yhat[0].tolist())\n",
    "        temp_input=temp_input[1:]\n",
    "        #print(temp_input)\n",
    "        lst_output.extend(yhat.tolist())\n",
    "        i=i+1\n",
    "    else:\n",
    "        x_input = x_input.reshape((1, n_steps,1))\n",
    "        yhat = model.predict(x_input, verbose=0)\n",
    "        print(yhat[0])\n",
    "        temp_input.extend(yhat[0].tolist())\n",
    "        print(len(temp_input))\n",
    "        lst_output.extend(yhat.tolist())\n",
    "        i=i+1\n",
    "    \n",
    "\n",
    "print(lst_output)"
   ]
  },
  {
   "cell_type": "markdown",
   "metadata": {},
   "source": [
    "Plotting of forecasted value"
   ]
  },
  {
   "cell_type": "code",
   "execution_count": 37,
   "metadata": {},
   "outputs": [],
   "source": [
    "day_new=np.arange(1,101)\n",
    "day_pred=np.arange(101,131)"
   ]
  },
  {
   "cell_type": "code",
   "execution_count": 38,
   "metadata": {},
   "outputs": [],
   "source": [
    "import matplotlib.pyplot as plt"
   ]
  },
  {
   "cell_type": "code",
   "execution_count": 39,
   "metadata": {},
   "outputs": [
    {
     "data": {
      "text/plain": [
       "1257"
      ]
     },
     "execution_count": 39,
     "metadata": {},
     "output_type": "execute_result"
    }
   ],
   "source": [
    "len(df1)"
   ]
  },
  {
   "cell_type": "code",
   "execution_count": 40,
   "metadata": {},
   "outputs": [],
   "source": [
    "df3=df1.tolist()\n",
    "df3.extend(lst_output)"
   ]
  },
  {
   "cell_type": "code",
   "execution_count": 43,
   "metadata": {},
   "outputs": [
    {
     "data": {
      "text/plain": [
       "[<matplotlib.lines.Line2D at 0x1b7d7617e48>]"
      ]
     },
     "execution_count": 43,
     "metadata": {},
     "output_type": "execute_result"
    },
    {
     "data": {
      "image/png": "[encoded data removed]",
      "text/plain": [
       "<Figure size 432x288 with 1 Axes>"
      ]
     },
     "metadata": {
      "needs_background": "light"
     },
     "output_type": "display_data"
    }
   ],
   "source": [
    "plt.plot(day_new, scaler.inverse_transform(df1[1157:]))\n",
    "plt.plot(day_pred, scaler.inverse_transform(lst_output))"
   ]
  },
  {
   "cell_type": "code",
   "execution_count": null,
   "metadata": {},
   "outputs": [],
   "source": []
  }
 ],
 "metadata": {
  "kernelspec": {
   "display_name": "Python 3",
   "language": "python",
   "name": "python3"
  },
  "language_info": {
   "codemirror_mode": {
    "name": "ipython",
    "version": 3
   },
   "file_extension": ".py",
   "mimetype": "text/x-python",
   "name": "python",
   "nbconvert_exporter": "python",
   "pygments_lexer": "ipython3",
   "version": "3.7.7"
  }
 },
 "nbformat": 4,
 "nbformat_minor": 4
}
